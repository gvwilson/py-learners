{
 "cells": [
  {
   "cell_type": "markdown",
   "id": "a28dec2a-577f-4f69-8240-cd39622d3f0a",
   "metadata": {},
   "source": [
    "# Functions\n",
    "\n",
    "A *function* in Python (or any other language) is a way to bundle together a bunch of steps so that you can re-use them and to make programs easier to understand. Some functions (like `max` and `len`) are built into the language, but you can add and share your own. Let's start by creating one that always prints the same message:"
   ]
  },
  {
   "cell_type": "code",
   "execution_count": 3,
   "id": "d9fd17a9-e568-4062-91b2-f095f935837c",
   "metadata": {},
   "outputs": [],
   "source": [
    "def simple_greeting():\n",
    "    print(\"Hello\")"
   ]
  },
  {
   "cell_type": "markdown",
   "id": "dc8c0d22-d900-434c-b3f7-79699a42f18b",
   "metadata": {},
   "source": [
    "Nothing happens when we run the cell above because we told Python _how_ to greet someone, but didn't actually ask it to do that yet. Let's run the function:"
   ]
  },
  {
   "cell_type": "code",
   "execution_count": 4,
   "id": "579c358f-69b8-42da-a3fb-42231a0a96c2",
   "metadata": {},
   "outputs": [
    {
     "name": "stdout",
     "output_type": "stream",
     "text": [
      "Hello\n"
     ]
    }
   ],
   "source": [
    "simple_greeting()"
   ]
  },
  {
   "cell_type": "markdown",
   "id": "934d715b-eb5e-4cc9-b867-a94a5ad71527",
   "metadata": {},
   "source": [
    "The parentheses `()` after the function's name have to be there: they tell Python \"do this now\".\n",
    "\n",
    "Let's write another function that takes an input, which we'll call `name`. (We can call it whatever we want, but it helps to choose meaningful names so that people can figure out what the function does and what the inputs are for.)"
   ]
  },
  {
   "cell_type": "code",
   "execution_count": 5,
   "id": "29619fa0-9b97-4f4a-b853-71b2a7cb0ddb",
   "metadata": {},
   "outputs": [],
   "source": [
    "def greeting(name):\n",
    "    print(\"Hello\", name)"
   ]
  },
  {
   "cell_type": "markdown",
   "id": "a927c9c5-2a1e-4796-a3e2-0750ce1c09e7",
   "metadata": {},
   "source": [
    "When we call `greeting` below, Python temporarily creates a variable called `name`, assigns it the value `\"Sesha\"`, runs the function, and then throws away that temporary variable:"
   ]
  },
  {
   "cell_type": "code",
   "execution_count": 6,
   "id": "2158d6c6-dd22-42a2-b827-fa61d2875c46",
   "metadata": {},
   "outputs": [
    {
     "name": "stdout",
     "output_type": "stream",
     "text": [
      "Hello Sesha\n"
     ]
    }
   ],
   "source": [
    "greeting(\"Sesha\")"
   ]
  },
  {
   "cell_type": "markdown",
   "id": "6303e3ff-4edd-4d58-9fe1-a89088d720b3",
   "metadata": {},
   "source": [
    "The temporary variable `name` no longer exists after the call is over:"
   ]
  },
  {
   "cell_type": "code",
   "execution_count": 7,
   "id": "d5bb3acb-6c60-4e9f-b34e-3e25a740e2ec",
   "metadata": {},
   "outputs": [
    {
     "ename": "NameError",
     "evalue": "name 'name' is not defined",
     "output_type": "error",
     "traceback": [
      "\u001b[0;31m---------------------------------------------------------------------------\u001b[0m",
      "\u001b[0;31mNameError\u001b[0m                                 Traceback (most recent call last)",
      "Input \u001b[0;32mIn [7]\u001b[0m, in \u001b[0;36m<cell line: 1>\u001b[0;34m()\u001b[0m\n\u001b[0;32m----> 1\u001b[0m \u001b[38;5;28mprint\u001b[39m(\u001b[43mname\u001b[49m)\n",
      "\u001b[0;31mNameError\u001b[0m: name 'name' is not defined"
     ]
    }
   ],
   "source": [
    "print(name)"
   ]
  },
  {
   "cell_type": "markdown",
   "id": "2aaa0a3c-7d8f-487a-a618-fd5192b77c22",
   "metadata": {},
   "source": [
    "Here's a function that does something a little more useful: instead of printing something, it calculates a value and gives it back to whoever called the function. The keyword `return` tells Python \"hand this value back right now.\""
   ]
  },
  {
   "cell_type": "code",
   "execution_count": 8,
   "id": "06bfb2de-1322-4380-9e71-c5ed00e71c6b",
   "metadata": {},
   "outputs": [
    {
     "name": "stdout",
     "output_type": "stream",
     "text": [
      "6\n"
     ]
    }
   ],
   "source": [
    "def double(num):\n",
    "    return 2 * num\n",
    "\n",
    "print(double(3))"
   ]
  },
  {
   "cell_type": "markdown",
   "id": "e4848733-399c-4cb0-8e71-4556065e68fa",
   "metadata": {},
   "source": [
    "Python evaluates functions from the inside out (just like in math, where `sin(log(x))` means \"find the logarithm of `x` and then find the sine of that value\". When we run `print(double(2) + double(double(3)))` below, Python does the following:\n",
    "1. Starts to run `print` but realizes it doesn't have a value to print until it does `+`.\n",
    "2. Realizes it can't do `+` until it has the left and right values to add.\n",
    "3. Runs `double(2)` to get the left-hand value for `+`.\n",
    "4. Starts to run the outer `double` to get the right-hand value but realizes it doesn't know what value to double.\n",
    "5. Runs the inner `double(3)` on the right-hand side to get 6.\n",
    "6. Now it can run the outer `double(...)` on the right-hand side because it knows it's doubling 6, which is 12.\n",
    "7. Now it has the two values it needs for `+` so it adds 4 (which is `double(2)`) and 12 (which is `double(double(3))`) to get 16.\n",
    "8. And finally, it can run `print(...)` because it knows what to print."
   ]
  },
  {
   "cell_type": "code",
   "execution_count": 9,
   "id": "be835df2-cf3e-434f-899c-04b5320dbb79",
   "metadata": {},
   "outputs": [
    {
     "name": "stdout",
     "output_type": "stream",
     "text": [
      "16\n"
     ]
    }
   ],
   "source": [
    "print(double(2) + double(double(3)))"
   ]
  },
  {
   "cell_type": "markdown",
   "id": "4afb094a-b2c3-4302-92d6-71c8f265e998",
   "metadata": {},
   "source": [
    "We can use `return` whenever we want to get a value back. This replacement for `min`, which I've called `least`, gives us the lesser of two values:"
   ]
  },
  {
   "cell_type": "code",
   "execution_count": 10,
   "id": "d178e6fa-3087-4b80-becb-05fccc511324",
   "metadata": {},
   "outputs": [
    {
     "data": {
      "text/plain": [
       "5"
      ]
     },
     "execution_count": 10,
     "metadata": {},
     "output_type": "execute_result"
    }
   ],
   "source": [
    "def least(a, b):\n",
    "    if a < b:\n",
    "        return a\n",
    "    return b\n",
    "\n",
    "least(5, 22)"
   ]
  },
  {
   "cell_type": "markdown",
   "id": "c5509b38-536c-484d-83a8-e762b6823f74",
   "metadata": {},
   "source": [
    "Normally a function uses the values that we pass into it when we call it, but it can also use values defined outside it. This is generally considered a bad idea (because you have to look through the whole program to find the values you're referring to), but if you have something that isn't going to change, it's OK to define a _global variable_ (outside a function) and use it inside a function:"
   ]
  },
  {
   "cell_type": "code",
   "execution_count": 11,
   "id": "7417430a-86ad-440f-b538-311b322c62cf",
   "metadata": {},
   "outputs": [
    {
     "name": "stdout",
     "output_type": "stream",
     "text": [
      "take Rey for 5 kilometers\n"
     ]
    }
   ],
   "source": [
    "dog = \"Rey\"\n",
    "\n",
    "def walk(distance):\n",
    "    print(\"take\", dog, \"for\", distance, \"kilometers\")\n",
    "\n",
    "walk(5)"
   ]
  },
  {
   "cell_type": "markdown",
   "id": "711fe577-7cb4-4a6e-b8ef-12b93ea68235",
   "metadata": {},
   "source": [
    "## Homework\n",
    "\n",
    "Modify this function to return the _span_ of a list of numbers (i.e., the difference between the largest and smallest number).\n",
    "\n",
    "*Correct*"
   ]
  },
  {
   "cell_type": "code",
   "execution_count": 1,
   "id": "4335acf4-5f60-419f-8109-f8fbc3fa881b",
   "metadata": {},
   "outputs": [
    {
     "name": "stdout",
     "output_type": "stream",
     "text": [
      "4\n"
     ]
    }
   ],
   "source": [
    "def span(numbers):\n",
    "    least = min(numbers)\n",
    "    greatest = max(numbers)\n",
    "    return greatest - least\n",
    "    \n",
    "print(span([1, 3, 2, 4, 5])) # should print 4, which is 5-1"
   ]
  },
  {
   "cell_type": "markdown",
   "id": "12c94d87-400e-4232-8f58-9602ad99a2d3",
   "metadata": {},
   "source": [
    "Define a function that adds up all the values in a list.\n",
    "\n",
    "*Correct*"
   ]
  },
  {
   "cell_type": "code",
   "execution_count": 13,
   "id": "9aaa2419-e7b1-41a5-a8c4-26af21f46abd",
   "metadata": {},
   "outputs": [
    {
     "name": "stdout",
     "output_type": "stream",
     "text": [
      "15\n"
     ]
    }
   ],
   "source": [
    "def add_em_all(numbers):\n",
    "    result = 0\n",
    "    for num in numbers:\n",
    "        result = result + num\n",
    "    return result\n",
    "print(add_em_all([1, 3, 2, 4, 5])) # should print 15"
   ]
  },
  {
   "cell_type": "markdown",
   "id": "cfc3a7d5-74a2-4206-a392-596ac8ef10ec",
   "metadata": {},
   "source": [
    "Define a function to create an acronym from a list of words: `acronym([\"This\", \"Is\", \"Python\"])` is `\"TIP\"`.\n",
    "\n",
    "*Correct*"
   ]
  },
  {
   "cell_type": "code",
   "execution_count": 36,
   "id": "7fc8206d-9e25-459c-8122-c445d3e55d25",
   "metadata": {},
   "outputs": [
    {
     "name": "stdout",
     "output_type": "stream",
     "text": [
      "TIP\n"
     ]
    }
   ],
   "source": [
    "def acronym(sentence):\n",
    "    result = \"\"\n",
    "    for sen in sentence:\n",
    "        result = result + sen[0] \n",
    "    return result\n",
    "\n",
    "print(acronym([\"This\", \"Is\", \"Python\"]))"
   ]
  },
  {
   "cell_type": "markdown",
   "id": "3dd96562-e4ee-43e5-a25e-c27466549d05",
   "metadata": {},
   "source": [
    "Write a function called `fence` that adds up all the non-negative numbers in a list. For example, `fence([1, -2, 3, 0])` should return 4.\n",
    "\n",
    "*Correct*"
   ]
  },
  {
   "cell_type": "code",
   "execution_count": 38,
   "id": "501c0fa3-24d4-4a42-b822-86e3c23b14b2",
   "metadata": {},
   "outputs": [
    {
     "name": "stdout",
     "output_type": "stream",
     "text": [
      "4\n"
     ]
    }
   ],
   "source": [
    "def fence(numbers):\n",
    "    result = 0\n",
    "    for num in numbers:\n",
    "        if num > -1:\n",
    "            result = result + num\n",
    "    return result\n",
    "\n",
    "print(fence([1, -2, 3, 0]))"
   ]
  },
  {
   "cell_type": "code",
   "execution_count": null,
   "id": "7a1bc07f-8994-4854-9ed4-2a14d9fe1e2c",
   "metadata": {},
   "outputs": [],
   "source": []
  }
 ],
 "metadata": {
  "kernelspec": {
   "display_name": "Python 3 (ipykernel)",
   "language": "python",
   "name": "python3"
  },
  "language_info": {
   "codemirror_mode": {
    "name": "ipython",
    "version": 3
   },
   "file_extension": ".py",
   "mimetype": "text/x-python",
   "name": "python",
   "nbconvert_exporter": "python",
   "pygments_lexer": "ipython3",
   "version": "3.9.13"
  }
 },
 "nbformat": 4,
 "nbformat_minor": 5
}
