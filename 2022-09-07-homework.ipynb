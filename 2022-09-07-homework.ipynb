{
 "cells": [
  {
   "cell_type": "markdown",
   "id": "6de44a25",
   "metadata": {},
   "source": [
    "# Learning Python 2022-09-07\n",
    "\n",
    "This is a [Markdown](https://en.wikipedia.org/wiki/Markdown) cell:\n",
    "I can write plain text, put in headings (which start with `#`),\n",
    "add *italics* or **boldface**,\n",
    "include links (like the one to Markdown earlier),\n",
    "and so on."
   ]
  },
  {
   "cell_type": "code",
   "execution_count": 2,
   "id": "05f84f40-7820-49b8-a3bd-1a98431c4c5b",
   "metadata": {},
   "outputs": [
    {
     "name": "stdout",
     "output_type": "stream",
     "text": [
      "Hello, there\n"
     ]
    }
   ],
   "source": [
    "# Python uses the '#' character for comments.\n",
    "# Anything after that character is ignored by Python, but can help human readers\n",
    "# understand what the code is doing.\n",
    "\n",
    "# Let's print a message. The 'print' function is built in to Python; it prints\n",
    "# out everything we give it in parentheses.\n",
    "print(\"Hello, there\")"
   ]
  },
  {
   "cell_type": "code",
   "execution_count": 3,
   "id": "7c4a8d03-7dfd-4d13-b3a5-41c4ab83d60f",
   "metadata": {
    "tags": []
   },
   "outputs": [
    {
     "data": {
      "text/plain": [
       "2.75"
      ]
     },
     "execution_count": 3,
     "metadata": {},
     "output_type": "execute_result"
    }
   ],
   "source": [
    "# We can do math:\n",
    "1 * 2 + 3 / 4"
   ]
  },
  {
   "cell_type": "code",
   "execution_count": 4,
   "id": "ce68d741-2df4-428d-b204-c23fc56c1fd7",
   "metadata": {},
   "outputs": [
    {
     "data": {
      "text/plain": [
       "3"
      ]
     },
     "execution_count": 4,
     "metadata": {},
     "output_type": "execute_result"
    }
   ],
   "source": [
    "# Python has a lot of other built-in functions, like 'max'; we'll meet them\n",
    "# as we go along. Learning them is like learning the common verbs in a new\n",
    "# language: you just have to memorize a couple of dozen to get by.\n",
    "max(1, 2, 3)"
   ]
  },
  {
   "cell_type": "markdown",
   "id": "f7c85d4f",
   "metadata": {},
   "source": [
    "## Variables and Strings"
   ]
  },
  {
   "cell_type": "code",
   "execution_count": 43,
   "id": "c1481816-c796-4a2e-9c65-739c6bb6730f",
   "metadata": {},
   "outputs": [
    {
     "name": "stdout",
     "output_type": "stream",
     "text": [
      "biologist\n",
      "future CEO\n"
     ]
    }
   ],
   "source": [
    "# We can put as many statements (or commands) in a cell as we want.\n",
    "# When we run the cell, Python executes them all in order.\n",
    "# Normally it only shows the result of the last statement;\n",
    "# if we want to see intermediate output we have to use 'print' explicitly.\n",
    "\n",
    "# Here, we're assigning a value (the character string \"biologist\")\n",
    "# to a variable called 'sakshi'. Think of variables as being like sticky notes\n",
    "# we put on data: we can use the variable's name to refer to the data.\n",
    "sakshi = \"biologist\"\n",
    "print(sakshi)\n",
    "\n",
    "# We can change what a variable refers to by assigning it a new value.\n",
    "# This is like moving the sticky note from the string \"biologist\" to\n",
    "# the string \"future CEO\".\n",
    "sakshi = \"future CEO\"\n",
    "print(sakshi)"
   ]
  },
  {
   "cell_type": "code",
   "execution_count": 62,
   "id": "36a5c4da-e4fd-4dcf-af76-b63a8bc7ca65",
   "metadata": {},
   "outputs": [
    {
     "data": {
      "text/plain": [
       "'biologist'"
      ]
     },
     "execution_count": 62,
     "metadata": {},
     "output_type": "execute_result"
    }
   ],
   "source": [
    "# Python remembers the values of variables from cell to cell. While we defined\n",
    "# the variable 'sakshi' above, it still has a value in this cell.\n",
    "sakshi"
   ]
  },
  {
   "cell_type": "code",
   "execution_count": 80,
   "id": "e97f3752-f86a-44f1-a3a8-7e9cbf59873a",
   "metadata": {},
   "outputs": [
    {
     "data": {
      "text/plain": [
       "9"
      ]
     },
     "execution_count": 80,
     "metadata": {},
     "output_type": "execute_result"
    }
   ],
   "source": [
    "# Here's another useful built-in function: 'len'. It tells us how many items\n",
    "# there are in a piece of data. If the data is a character string, it tells us\n",
    "# how many characters there are. We'll meet other kinds of data later; 'len'\n",
    "# will work on them as well.\n",
    "len(\"biologist\")"
   ]
  },
  {
   "cell_type": "code",
   "execution_count": 113,
   "id": "0244d6c1-0894-4ab5-9877-13ba6dfd9d9f",
   "metadata": {},
   "outputs": [
    {
     "name": "stdout",
     "output_type": "stream",
     "text": [
      "The first character is at index 0: b\n",
      "The second character is at index 1 i\n",
      "Negative indexing counts backward from the end, so the index -1 is the last character t\n"
     ]
    }
   ],
   "source": [
    "# Let's play around with indexing. Python always uses square brackets '[]'\n",
    "# to get an item out of a larger piece of data.\n",
    "sakshi = \"biologist\"\n",
    "print(\"The first character is at index 0:\", sakshi[0])\n",
    "print(\"The second character is at index 1\", sakshi[1])\n",
    "print(\"Negative indexing counts backward from the end, so the index -1 is the last character\", sakshi[-1])"
   ]
  },
  {
   "cell_type": "code",
   "execution_count": 129,
   "id": "f170e85f-dcf6-4541-ace2-c615dc56e4f6",
   "metadata": {},
   "outputs": [
    {
     "data": {
      "text/plain": [
       "'t'"
      ]
     },
     "execution_count": 129,
     "metadata": {},
     "output_type": "execute_result"
    }
   ],
   "source": [
    "# Why does Python use negative indexes to count backward? Because otherwise we\n",
    "# would have to write something like this to get the last character:\n",
    "# - 'len(sakshi)' is the number of characters in the text\n",
    "# - so 'len(sakshi) - 1' is the index of the last character (since we're counting from zero)\n",
    "sakshi[len(sakshi) - 1]"
   ]
  },
  {
   "cell_type": "markdown",
   "id": "182bbdc2",
   "metadata": {},
   "source": [
    "## Slices"
   ]
  },
  {
   "cell_type": "code",
   "execution_count": 144,
   "id": "9731d376-4858-4fcf-9b18-81a570a23082",
   "metadata": {},
   "outputs": [
    {
     "data": {
      "text/plain": [
       "'sci'"
      ]
     },
     "execution_count": 144,
     "metadata": {},
     "output_type": "execute_result"
    }
   ],
   "source": [
    "# Now let's look at slices, which are subsections of a string that might contain\n",
    "# more than one character. If we say 'string[start:end]', we mean the characters\n",
    "# in the string from index 'start' up to but not including index 'end'.\n",
    "anna = \"scientist!\"\n",
    "anna[0:3]"
   ]
  },
  {
   "cell_type": "code",
   "execution_count": 157,
   "id": "eb6a60a8-a415-4ba2-b723-b9dff8181fca",
   "metadata": {},
   "outputs": [
    {
     "data": {
      "text/plain": [
       "'tist'"
      ]
     },
     "execution_count": 157,
     "metadata": {},
     "output_type": "execute_result"
    }
   ],
   "source": [
    "# This expression goes from index 5 up to but not including index 9. One way\n",
    "# to remember it is that the difference between the two indexes is the number\n",
    "# of characters in the result: 9-5 means we get 4 characters.\n",
    "anna[5:9]"
   ]
  },
  {
   "cell_type": "code",
   "execution_count": 169,
   "id": "c51c5953-1175-4a1b-b69e-4df99f2f045f",
   "metadata": {},
   "outputs": [
    {
     "data": {
      "text/plain": [
       "'st'"
      ]
     },
     "execution_count": 169,
     "metadata": {},
     "output_type": "execute_result"
    }
   ],
   "source": [
    "# We can use negative indexes too. Here, we go from the third-from-the-end location\n",
    "# up to (but not including) the last location, so we get 2 characters:\n",
    "anna[-3:-1]"
   ]
  },
  {
   "cell_type": "code",
   "execution_count": 180,
   "id": "088deae6-aae3-4268-9cb2-1b655cecb0b2",
   "metadata": {},
   "outputs": [
    {
     "data": {
      "text/plain": [
       "'st!'"
      ]
     },
     "execution_count": 180,
     "metadata": {},
     "output_type": "execute_result"
    }
   ],
   "source": [
    "# If we only specify the starting index, the slice goes all the way to the end.\n",
    "anna[-3:]"
   ]
  },
  {
   "cell_type": "code",
   "execution_count": 190,
   "id": "9a408b88-1f80-4915-834b-385fa987ff18",
   "metadata": {},
   "outputs": [
    {
     "data": {
      "text/plain": [
       "'scien'"
      ]
     },
     "execution_count": 190,
     "metadata": {},
     "output_type": "execute_result"
    }
   ],
   "source": [
    "# And if we only specify the end, the slice starts at the beginning:\n",
    "anna[:5]"
   ]
  },
  {
   "cell_type": "code",
   "execution_count": 199,
   "id": "d0ca63f7-5595-4e2a-838a-a7eac14d3f30",
   "metadata": {},
   "outputs": [
    {
     "data": {
      "text/plain": [
       "'scientist!'"
      ]
     },
     "execution_count": 199,
     "metadata": {},
     "output_type": "execute_result"
    }
   ],
   "source": [
    "# Which means that if we don't specify either, the slice goes from the start to the end\n",
    "# and gives us back the entire character string.\n",
    "anna[:]"
   ]
  },
  {
   "cell_type": "markdown",
   "id": "bf5342f6",
   "metadata": {},
   "source": [
    "## Lists"
   ]
  },
  {
   "cell_type": "code",
   "execution_count": 208,
   "id": "61ed21b3-d9b6-469d-a769-d6cfe4308d9c",
   "metadata": {},
   "outputs": [
    {
     "name": "stdout",
     "output_type": "stream",
     "text": [
      "['vincent', 'sesha', 'tanner']\n"
     ]
    }
   ],
   "source": [
    "# We can create a list by putting some values in square brackets '[]'. Here, we\n",
    "# are creating a list with three strings.\n",
    "students = [\"vincent\", \"sesha\", \"tanner\"]\n",
    "print(students)"
   ]
  },
  {
   "cell_type": "code",
   "execution_count": 210,
   "id": "ac527586-cf07-4fa5-b13f-3dc6e3317126",
   "metadata": {},
   "outputs": [
    {
     "name": "stdout",
     "output_type": "stream",
     "text": [
      "item at location 0: vincent\n",
      "slice from 0 to 2: ['vincent', 'sesha']\n"
     ]
    }
   ],
   "source": [
    "# Indexing and slicing work exactly as they do for character strings.\n",
    "print(\"item at location 0:\", students[0])\n",
    "print(\"slice from 0 to 2:\", students[0:2])"
   ]
  },
  {
   "cell_type": "code",
   "execution_count": 211,
   "id": "f57db546-89c4-48ef-a1eb-3b5507b99974",
   "metadata": {},
   "outputs": [
    {
     "data": {
      "text/plain": [
       "'v'"
      ]
     },
     "execution_count": 211,
     "metadata": {},
     "output_type": "execute_result"
    }
   ],
   "source": [
    "# Let's trace through the expression below:\n",
    "# - 'students' is a variable that refers to a list with three elements\n",
    "# - So 'students[0]' is the first element of the list, which is the string \"vincent\"\n",
    "# - So 'students[0][0]' is the first character of the string \"vincent\", which is \"v\"\n",
    "students[0][0]"
   ]
  },
  {
   "cell_type": "code",
   "execution_count": 215,
   "id": "05e37e05-3117-42e5-8912-a28cc4cd7094",
   "metadata": {},
   "outputs": [
    {
     "data": {
      "text/plain": [
       "'e'"
      ]
     },
     "execution_count": 215,
     "metadata": {},
     "output_type": "execute_result"
    }
   ],
   "source": [
    "# By the same logic, 'students[1][1]' is the second character of the second item\n",
    "# in the list.\n",
    "students[1][1]"
   ]
  },
  {
   "cell_type": "code",
   "execution_count": 218,
   "id": "807ab00d-ce81-4b3d-9e1e-c6c6dc0525ee",
   "metadata": {},
   "outputs": [
    {
     "data": {
      "text/plain": [
       "'es'"
      ]
     },
     "execution_count": 218,
     "metadata": {},
     "output_type": "execute_result"
    }
   ],
   "source": [
    "# We can get the item at index 1 from 'students' and then slice it:\n",
    "students[1][1:3]"
   ]
  },
  {
   "cell_type": "code",
   "execution_count": 220,
   "id": "11c13da0-6263-4251-b2f7-572609806258",
   "metadata": {},
   "outputs": [
    {
     "ename": "IndexError",
     "evalue": "list index out of range",
     "output_type": "error",
     "traceback": [
      "\u001b[0;31m---------------------------------------------------------------------------\u001b[0m",
      "\u001b[0;31mIndexError\u001b[0m                                Traceback (most recent call last)",
      "\u001b[1;32m/Users/gregwilson/py-learners/2022-09-07.ipynb Cell 24'\u001b[0m in \u001b[0;36m<cell line: 2>\u001b[0;34m()\u001b[0m\n\u001b[1;32m      <a href='vscode-notebook-cell:/Users/gregwilson/py-learners/2022-09-07.ipynb#X30sZmlsZQ%3D%3D?line=0'>1</a>\u001b[0m \u001b[39m# But we can't slice first and then get the item at index 1: why not?\u001b[39;00m\n\u001b[0;32m----> <a href='vscode-notebook-cell:/Users/gregwilson/py-learners/2022-09-07.ipynb#X30sZmlsZQ%3D%3D?line=1'>2</a>\u001b[0m students[\u001b[39m1\u001b[39;49m:\u001b[39m2\u001b[39;49m][\u001b[39m1\u001b[39;49m]\n",
      "\u001b[0;31mIndexError\u001b[0m: list index out of range"
     ]
    }
   ],
   "source": [
    "# But we can't slice first and then get the item at index 1: why not?\n",
    "students[1:2][1]"
   ]
  },
  {
   "cell_type": "code",
   "execution_count": 221,
   "id": "19931fb4-d684-4393-aeac-4bca3836e0bb",
   "metadata": {},
   "outputs": [
    {
     "data": {
      "text/plain": [
       "['sesha']"
      ]
     },
     "execution_count": 221,
     "metadata": {},
     "output_type": "execute_result"
    }
   ],
   "source": [
    "# The reason is that 'students[1:2]' gives us a list with one element, not one\n",
    "# item from the list. Every time we use a slice, we get a sublist with the\n",
    "# specified range of elements; we only get a single item out of the list when\n",
    "# when provide a single index rather than a slice with a colon in it:\n",
    "students[1:2]"
   ]
  },
  {
   "cell_type": "code",
   "execution_count": 233,
   "id": "f0e33702-2ebb-4d35-863d-c1f161767ce2",
   "metadata": {},
   "outputs": [
    {
     "data": {
      "text/plain": [
       "'sesha'"
      ]
     },
     "execution_count": 233,
     "metadata": {},
     "output_type": "execute_result"
    }
   ],
   "source": [
    "# Just to prove that, here's 'students[1]', which is just the string \"sesha\"\n",
    "# rather than a list containing the string \"sesha\". Yes, it's confusing at\n",
    "# first, but it's consistent, and will become second nature pretty quickly.\n",
    "students[1]"
   ]
  },
  {
   "cell_type": "code",
   "execution_count": 244,
   "id": "15854f23-cc5e-4a88-98a4-b33a4c7776eb",
   "metadata": {},
   "outputs": [
    {
     "name": "stdout",
     "output_type": "stream",
     "text": [
      "['vincent', 'sesha', 'tanner']\n"
     ]
    }
   ],
   "source": [
    "# A few more things about indexing. As a reminder, our list is:\n",
    "print(students)"
   ]
  },
  {
   "cell_type": "code",
   "execution_count": 254,
   "id": "56ce69a4-6a35-455f-bc08-f588987af834",
   "metadata": {},
   "outputs": [
    {
     "data": {
      "text/plain": [
       "[]"
      ]
     },
     "execution_count": 254,
     "metadata": {},
     "output_type": "execute_result"
    }
   ],
   "source": [
    "# If we ask for 'students[1:1]', we're asking for the slice that starts at index 1\n",
    "# and goes up to but not including index 1. No index satisfies those conditions,\n",
    "# so we get back an empty list - a list with nothing in it.\n",
    "students[1:1]"
   ]
  },
  {
   "cell_type": "code",
   "execution_count": 264,
   "id": "09412081",
   "metadata": {},
   "outputs": [
    {
     "name": "stdout",
     "output_type": "stream",
     "text": [
      "\n"
     ]
    }
   ],
   "source": [
    "# We can have empty strings, too. When we print them, we don't see anything because\n",
    "# there aren't any characters to print:\n",
    "print(\"\")"
   ]
  },
  {
   "cell_type": "markdown",
   "id": "6b5d4114",
   "metadata": {},
   "source": [
    "## Concatenation"
   ]
  },
  {
   "cell_type": "code",
   "execution_count": 265,
   "id": "76fe1c58-0115-46aa-9b65-40e0652cca38",
   "metadata": {},
   "outputs": [
    {
     "data": {
      "text/plain": [
       "'gökçe'"
      ]
     },
     "execution_count": 265,
     "metadata": {},
     "output_type": "execute_result"
    }
   ],
   "source": [
    "# We can \"add\" strings, which concatenates them:\n",
    "\"gö\" + \"kçe\""
   ]
  },
  {
   "cell_type": "code",
   "execution_count": 266,
   "id": "c7067995-f45a-41d1-9aaf-857fa67ba969",
   "metadata": {},
   "outputs": [
    {
     "name": "stdout",
     "output_type": "stream",
     "text": [
      "['greg', 'aisha', 'sagal', 'vincent']\n"
     ]
    }
   ],
   "source": [
    "# We can also add lists:\n",
    "lefties = [\"greg\"]\n",
    "whatever = [\"aisha\", \"sagal\", \"vincent\"]\n",
    "print(lefties + whatever)"
   ]
  },
  {
   "cell_type": "code",
   "execution_count": 267,
   "id": "2cb7ea0d-13af-4003-ba54-a212a4595ddd",
   "metadata": {},
   "outputs": [
    {
     "name": "stdout",
     "output_type": "stream",
     "text": [
      "['aisha', 'sagal', 'vincent', 'greg']\n"
     ]
    }
   ],
   "source": [
    "# But while 2+3 is the same as 3+2, lefties+whatever is not the same as whatever+lefties:\n",
    "# lists are ordered, so when we add two lists we get the items in that order.\n",
    "print(whatever + lefties)"
   ]
  },
  {
   "cell_type": "code",
   "execution_count": 269,
   "id": "f0062889-3396-46cf-b416-6b247adfcc80",
   "metadata": {},
   "outputs": [
    {
     "name": "stdout",
     "output_type": "stream",
     "text": [
      "['VAR122', '2022-09-05', 12.5, 2.2, 6]\n"
     ]
    }
   ],
   "source": [
    "# Finally, a list can contain values of different types, like character strings\n",
    "# and integers. Here's a very simple experiment record:\n",
    "experiment = [\"VAR122\", \"2022-09-05\", 12.5, 2.2, 6]\n",
    "print(experiment)"
   ]
  },
  {
   "cell_type": "markdown",
   "id": "8bd900b2",
   "metadata": {},
   "source": [
    "## Homework"
   ]
  },
  {
   "cell_type": "code",
   "execution_count": 9,
   "id": "92f82760",
   "metadata": {},
   "outputs": [
    {
     "name": "stdout",
     "output_type": "stream",
     "text": [
      "green\n"
     ]
    }
   ],
   "source": [
    "# Here's a list of five colors.\n",
    "colors = [\"red\", \"orange\", \"yellow\", \"green\", \"blue\"]\n",
    "\n",
    "# Replace the underscores '___' with something that will print out the word \"green\".\n",
    "print(colors[3])"
   ]
  },
  {
   "cell_type": "code",
   "execution_count": 8,
   "id": "d53c1499",
   "metadata": {},
   "outputs": [
    {
     "name": "stdout",
     "output_type": "stream",
     "text": [
      "['orange', 'yellow', 'green']\n"
     ]
    }
   ],
   "source": [
    "# Replace the underscores with something that will print the list [\"orange\", \"yellow\", \"green\"]\n",
    "print(colors[1:4])"
   ]
  },
  {
   "cell_type": "code",
   "execution_count": 17,
   "id": "fd8859e8",
   "metadata": {},
   "outputs": [
    {
     "name": "stdout",
     "output_type": "stream",
     "text": [
      "redblue\n"
     ]
    }
   ],
   "source": [
    "# Replace the underscores with something that will print the list [\"red\", \"blue\"].\n",
    "# Notice that you have two blanks to fill in.\n",
    "# print(\"Hello\" + \"Solomon\")\n",
    "# FIXME\n",
    "print(colors[0] + colors[4])"
   ]
  },
  {
   "cell_type": "code",
   "execution_count": 18,
   "id": "6abede02",
   "metadata": {},
   "outputs": [
    {
     "name": "stdout",
     "output_type": "stream",
     "text": [
      "or\n"
     ]
    }
   ],
   "source": [
    "# Replace the underscores with something that will print the string \"or\".\n",
    "print(colors[1][0:2])"
   ]
  },
  {
   "cell_type": "code",
   "execution_count": 19,
   "id": "567ae1a1",
   "metadata": {},
   "outputs": [
    {
     "name": "stdout",
     "output_type": "stream",
     "text": [
      "['Smew', 'Mergellus albellus']\n"
     ]
    }
   ],
   "source": [
    "# Lists can contain character strings, numbers... and other lists. These are usually\n",
    "# called \"nested lists\"; the main list is called the \"outer list\", and the ones inside\n",
    "# it are called \"inner lists\". (Programmers aren't very creative when it comes to\n",
    "# naming things.)\n",
    "\n",
    "# Here's a list of scientific bird names:\n",
    "birds = [\n",
    "    [\"Snow goose\", \"Answer caerulescens\"],\n",
    "    [\"Tundra swan\", \"Cygnus columbianus\"],\n",
    "    [\"Cinnamon teal\", \"Spatula cyanoptera\"],\n",
    "    [\"Harlequin duck\", \"Histrionicus histrionicus\"],\n",
    "    [\"Smew\", \"Mergellus albellus\"]\n",
    "]\n",
    "\n",
    "# Fill in the underscores to get the sublist for the smew (with both the common name\n",
    "# and the scientific name):\n",
    "print(birds[-1])"
   ]
  },
  {
   "cell_type": "code",
   "execution_count": 20,
   "id": "c34a9c09",
   "metadata": {},
   "outputs": [
    {
     "name": "stdout",
     "output_type": "stream",
     "text": [
      "Cinnamon teal\n"
     ]
    }
   ],
   "source": [
    "# Fill in the underscores to get just the string \"Cinnamon teal\"\n",
    "print(birds[2][0])"
   ]
  },
  {
   "cell_type": "code",
   "execution_count": 21,
   "id": "e8e3fde0",
   "metadata": {},
   "outputs": [
    {
     "name": "stdout",
     "output_type": "stream",
     "text": [
      "Harlequin\n"
     ]
    }
   ],
   "source": [
    "# Fill in the underscores to get just the word \"Harlequin\"\n",
    "print(birds[3][0][0:9])"
   ]
  },
  {
   "cell_type": "code",
   "execution_count": null,
   "id": "da046f63-f458-4ecb-9b6e-85a80da3ae1a",
   "metadata": {},
   "outputs": [],
   "source": []
  }
 ],
 "metadata": {
  "interpreter": {
   "hash": "4965d4aafc97122e3fb0617814687f65e5b64bf92be4fb9ae8b173940cc117cb"
  },
  "kernelspec": {
   "display_name": "Python 3 (ipykernel)",
   "language": "python",
   "name": "python3"
  },
  "language_info": {
   "codemirror_mode": {
    "name": "ipython",
    "version": 3
   },
   "file_extension": ".py",
   "mimetype": "text/x-python",
   "name": "python",
   "nbconvert_exporter": "python",
   "pygments_lexer": "ipython3",
   "version": "3.9.13"
  }
 },
 "nbformat": 4,
 "nbformat_minor": 5
}
