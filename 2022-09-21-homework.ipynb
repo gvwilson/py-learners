{
 "cells": [
  {
   "cell_type": "markdown",
   "id": "111a36ea-0955-482c-899a-65105cf054e5",
   "metadata": {},
   "source": [
    "# Homework 2022-09-21\n",
    "\n",
    "This week we are doing a little more with loops and meeting `if`, `else`, and `elif`, which allow our programs to make decisions.\n",
    "\n",
    "But first, there's a function called `range` that generates a list of numbers:"
   ]
  },
  {
   "cell_type": "code",
   "execution_count": 1,
   "id": "5a505ec6-8e73-42f4-b65e-902c56f3f554",
   "metadata": {},
   "outputs": [
    {
     "name": "stdout",
     "output_type": "stream",
     "text": [
      "0\n",
      "1\n",
      "2\n"
     ]
    }
   ],
   "source": [
    "for num in range(3):\n",
    "    print(num)"
   ]
  },
  {
   "cell_type": "markdown",
   "id": "6941939f-e11f-4f79-8cd2-d367abc7e3df",
   "metadata": {},
   "source": [
    "As the example above shows, if we give `range` one number it produces the list of values from 0 up to, but not including, that value. (This just happens to be all the legal indices of a list with that many elements.) If we give `range` two numbers, it starts at the first and goes up to (but not including) the second:"
   ]
  },
  {
   "cell_type": "code",
   "execution_count": 2,
   "id": "503b54df-4c3f-4488-9e06-df5cca0953a5",
   "metadata": {},
   "outputs": [
    {
     "name": "stdout",
     "output_type": "stream",
     "text": [
      "2\n",
      "3\n",
      "4\n"
     ]
    }
   ],
   "source": [
    "for i in range(2, 5):\n",
    "    print(i)"
   ]
  },
  {
   "cell_type": "markdown",
   "id": "5ae476bd-2b4e-49a5-9f23-b5a0bda249ac",
   "metadata": {},
   "source": [
    "We can use `range` to loop the indices of a list, so that we know where we are as well as what the value at that location is:"
   ]
  },
  {
   "cell_type": "code",
   "execution_count": 3,
   "id": "e5c4b0a4-8c29-4bda-8b4b-744ffa23f6f0",
   "metadata": {},
   "outputs": [
    {
     "name": "stdout",
     "output_type": "stream",
     "text": [
      "0 red\n",
      "1 green\n",
      "2 blue\n"
     ]
    }
   ],
   "source": [
    "colors = [\"red\", \"green\", \"blue\"]\n",
    "num_colors = len(colors)\n",
    "for i in range(num_colors):\n",
    "    print(i, colors[i])"
   ]
  },
  {
   "cell_type": "markdown",
   "id": "a73d43c7-50ab-4b78-86bf-b6fbeecf9b0f",
   "metadata": {},
   "source": [
    "Most programmers would combine the `range` and `len` function calls on a single line as shown below: it's a very common idiom."
   ]
  },
  {
   "cell_type": "code",
   "execution_count": 4,
   "id": "b210a2ef-ccb7-4310-9531-847b72c4a01a",
   "metadata": {},
   "outputs": [
    {
     "name": "stdout",
     "output_type": "stream",
     "text": [
      "0 red\n",
      "1 green\n",
      "2 blue\n"
     ]
    }
   ],
   "source": [
    "for i in range(len(colors)):\n",
    "    print(i, colors[i])"
   ]
  },
  {
   "cell_type": "markdown",
   "id": "89c7331a-9421-47db-8cf5-416e0cbe802d",
   "metadata": {},
   "source": [
    "We can use `if` to conditionally execute some code. If the _condition_ of the `if` is true, the indented code belonging to the `if` is executed. If the condition is false, that code _isn't_ executed."
   ]
  },
  {
   "cell_type": "code",
   "execution_count": 5,
   "id": "b217d6ef-c608-4fc4-9aad-1810ffa56de0",
   "metadata": {},
   "outputs": [
    {
     "name": "stdout",
     "output_type": "stream",
     "text": [
      "um\n",
      "yellow\n"
     ]
    }
   ],
   "source": [
    "colors = [\"pink\", \"orange\", \"um\", \"yellow\", \"gray\"]\n",
    "for color in colors:\n",
    "    if color > \"sienna\":\n",
    "        print(color)"
   ]
  },
  {
   "cell_type": "markdown",
   "id": "abe60f99-00de-40cc-a33f-740ca49d79a7",
   "metadata": {},
   "source": [
    "We can add an `else` to an `if` to say, \"Do this if you _didn't_ do the `if`.\" Either the code indented below the `if` will execute _or_ the code indented below the `else` will execute, but not both."
   ]
  },
  {
   "cell_type": "code",
   "execution_count": 6,
   "id": "267f17e1-a87c-465c-9631-a91515109bda",
   "metadata": {},
   "outputs": [
    {
     "name": "stdout",
     "output_type": "stream",
     "text": [
      "boring\n",
      "boring\n",
      "um\n",
      "yellow\n",
      "boring\n"
     ]
    }
   ],
   "source": [
    "colors = [\"pink\", \"orange\", \"um\", \"yellow\", \"gray\"]\n",
    "for color in colors:\n",
    "    if color > \"sienna\":\n",
    "        print(color)\n",
    "    else:\n",
    "        print(\"boring\")"
   ]
  },
  {
   "cell_type": "markdown",
   "id": "613f7538-96ed-460b-8053-ed91d09a38a2",
   "metadata": {},
   "source": [
    "We can also use `elif` (short for \"else if\") to add other conditions. Like `else`, an `elif` can only be used after an `if`: it can't be used on its own, because it's providing a \"next\" alternative."
   ]
  },
  {
   "cell_type": "code",
   "execution_count": 10,
   "id": "229e5dac-5bc1-437e-93b5-bac39fc245be",
   "metadata": {},
   "outputs": [
    {
     "name": "stdout",
     "output_type": "stream",
     "text": [
      "boring\n",
      "Starts with 'o'\n",
      "um\n",
      "yellow\n",
      "Starts with 'g'\n"
     ]
    }
   ],
   "source": [
    "colors = [\"pink\", \"orange\", \"um\", \"yellow\", \"gray\"]\n",
    "for color in colors:\n",
    "    if color > \"sienna\":\n",
    "        print(color)\n",
    "    elif color[0] == \"o\":\n",
    "        print(\"Starts with 'o'\")\n",
    "    elif color[0] == \"g\":\n",
    "        print(\"Starts with 'g'\")\n",
    "    else:\n",
    "        print(\"boring\")"
   ]
  },
  {
   "cell_type": "markdown",
   "id": "b28ab42a-3861-4f10-a571-c5d3c11c13c5",
   "metadata": {},
   "source": [
    "## Homework"
   ]
  },
  {
   "cell_type": "markdown",
   "id": "45beaf2e-f3ec-47ff-923e-fc5af72e01a3",
   "metadata": {},
   "source": [
    "Fix the code below so that it prints:\n",
    "```\n",
    "pink\n",
    "starts with 'y'\n",
    "boring\n",
    "```"
   ]
  },
  {
   "cell_type": "code",
   "execution_count": 11,
   "id": "a5ad89fc-5dfe-4f81-9c63-46055e9e0996",
   "metadata": {},
   "outputs": [
    {
     "name": "stdout",
     "output_type": "stream",
     "text": [
      "boring\n",
      "yellow\n",
      "boring\n"
     ]
    }
   ],
   "source": [
    "colors = [\"pink\", \"yellow\", \"gray\"]\n",
    "for color in colors:\n",
    "    if color > \"sienna\":\n",
    "        print(color)\n",
    "    elif color[0] == \"y\":\n",
    "        print(\"Starts with 'y'\")\n",
    "    else:\n",
    "        print(\"boring\")"
   ]
  },
  {
   "cell_type": "markdown",
   "id": "33110fae-8588-4824-9037-a6e377fe4e7d",
   "metadata": {},
   "source": [
    "Fill in the underscores below so that the code adds up all the numbers from 1 to 5 inclusive."
   ]
  },
  {
   "cell_type": "code",
   "execution_count": null,
   "id": "2f1debca-666d-4eea-95eb-f9271f40bbf4",
   "metadata": {},
   "outputs": [],
   "source": [
    "total = 0\n",
    "for num in range(1, 11):\n",
    "    if ____:\n",
    "        total = ____"
   ]
  },
  {
   "cell_type": "markdown",
   "id": "1d54a3c9-f1e5-4c4c-ac5c-378a89bc4347",
   "metadata": {},
   "source": [
    "Modify the code below to get a list of colors whose names have more than 4 characters."
   ]
  },
  {
   "cell_type": "code",
   "execution_count": null,
   "id": "dd73b637-f5b8-4415-b76c-9ad1269b579b",
   "metadata": {},
   "outputs": [],
   "source": [
    "colors = [\"chartreuse\", \"pink\", \"tan\", \"mauve\"]\n",
    "long_colors = []\n",
    "for col in colors:\n",
    "    ____:\n",
    "        long_colors = long_colors + ____\n",
    "print(long_colors)"
   ]
  },
  {
   "cell_type": "markdown",
   "id": "343dd7a9-4bab-4483-8ab1-8c710704c2f1",
   "metadata": {},
   "source": [
    "Let's revisit an exercise from the previous week: modify the code below to find the longest and shortest numbers in the list _without_ using the functions `max` and `min`."
   ]
  },
  {
   "cell_type": "code",
   "execution_count": null,
   "id": "6e9cc231-3280-448c-8f98-41094b653089",
   "metadata": {},
   "outputs": [],
   "source": [
    "numbers = [-5, 2, 9, 3, -1, 3]\n",
    "biggest = 0\n",
    "smallest = 0\n",
    "for num in numbers:\n",
    "    if ____:\n",
    "        ____\n",
    "    if ____:\n",
    "        ____\n",
    "print(\"biggest\", biggest, \"and smallest\", smallest)"
   ]
  }
 ],
 "metadata": {
  "kernelspec": {
   "display_name": "Python 3 (ipykernel)",
   "language": "python",
   "name": "python3"
  },
  "language_info": {
   "codemirror_mode": {
    "name": "ipython",
    "version": 3
   },
   "file_extension": ".py",
   "mimetype": "text/x-python",
   "name": "python",
   "nbconvert_exporter": "python",
   "pygments_lexer": "ipython3",
   "version": "3.9.13"
  }
 },
 "nbformat": 4,
 "nbformat_minor": 5
}
