{
 "cells": [
  {
   "cell_type": "code",
   "execution_count": 2,
   "id": "05f84f40-7820-49b8-a3bd-1a98431c4c5b",
   "metadata": {},
   "outputs": [
    {
     "name": "stdout",
     "output_type": "stream",
     "text": [
      "Hello, there\n"
     ]
    }
   ],
   "source": [
    "print(\"Hello, there\")"
   ]
  },
  {
   "cell_type": "code",
   "execution_count": 4,
   "id": "7c4a8d03-7dfd-4d13-b3a5-41c4ab83d60f",
   "metadata": {
    "tags": []
   },
   "outputs": [
    {
     "data": {
      "text/plain": [
       "2.75"
      ]
     },
     "execution_count": 4,
     "metadata": {},
     "output_type": "execute_result"
    }
   ],
   "source": [
    "1 * 2 + 3 / 4"
   ]
  },
  {
   "cell_type": "code",
   "execution_count": 5,
   "id": "ce68d741-2df4-428d-b204-c23fc56c1fd7",
   "metadata": {},
   "outputs": [
    {
     "data": {
      "text/plain": [
       "3"
      ]
     },
     "execution_count": 5,
     "metadata": {},
     "output_type": "execute_result"
    }
   ],
   "source": [
    "max(1, 2, 3)"
   ]
  },
  {
   "cell_type": "code",
   "execution_count": 10,
   "id": "c1481816-c796-4a2e-9c65-739c6bb6730f",
   "metadata": {},
   "outputs": [
    {
     "name": "stdout",
     "output_type": "stream",
     "text": [
      "biologist\n",
      "future CEO\n"
     ]
    }
   ],
   "source": [
    "sakshi = \"biologist\"\n",
    "print(sakshi)\n",
    "sakshi = \"future CEO\"\n",
    "print(sakshi)"
   ]
  },
  {
   "cell_type": "code",
   "execution_count": 11,
   "id": "36a5c4da-e4fd-4dcf-af76-b63a8bc7ca65",
   "metadata": {},
   "outputs": [
    {
     "data": {
      "text/plain": [
       "'future CEO'"
      ]
     },
     "execution_count": 11,
     "metadata": {},
     "output_type": "execute_result"
    }
   ],
   "source": [
    "sakshi"
   ]
  },
  {
   "cell_type": "code",
   "execution_count": 12,
   "id": "e97f3752-f86a-44f1-a3a8-7e9cbf59873a",
   "metadata": {},
   "outputs": [
    {
     "data": {
      "text/plain": [
       "9"
      ]
     },
     "execution_count": 12,
     "metadata": {},
     "output_type": "execute_result"
    }
   ],
   "source": [
    "len(\"biologist\")"
   ]
  },
  {
   "cell_type": "code",
   "execution_count": 16,
   "id": "0244d6c1-0894-4ab5-9877-13ba6dfd9d9f",
   "metadata": {},
   "outputs": [
    {
     "data": {
      "text/plain": [
       "'t'"
      ]
     },
     "execution_count": 16,
     "metadata": {},
     "output_type": "execute_result"
    }
   ],
   "source": [
    "sakshi = \"biologist\"\n",
    "sakshi[-1]"
   ]
  },
  {
   "cell_type": "code",
   "execution_count": 17,
   "id": "f170e85f-dcf6-4541-ace2-c615dc56e4f6",
   "metadata": {},
   "outputs": [
    {
     "data": {
      "text/plain": [
       "'t'"
      ]
     },
     "execution_count": 17,
     "metadata": {},
     "output_type": "execute_result"
    }
   ],
   "source": [
    "sakshi[len(sakshi) - 1]"
   ]
  },
  {
   "cell_type": "code",
   "execution_count": 19,
   "id": "df3ffe38-8628-4561-bc47-4f47e6d4eb4b",
   "metadata": {},
   "outputs": [
    {
     "name": "stdout",
     "output_type": "stream",
     "text": [
      "scientist!\n"
     ]
    }
   ],
   "source": [
    "anna = \"scientist!\"\n",
    "print(anna)"
   ]
  },
  {
   "cell_type": "code",
   "execution_count": 20,
   "id": "9731d376-4858-4fcf-9b18-81a570a23082",
   "metadata": {},
   "outputs": [
    {
     "data": {
      "text/plain": [
       "'sci'"
      ]
     },
     "execution_count": 20,
     "metadata": {},
     "output_type": "execute_result"
    }
   ],
   "source": [
    "anna[0:3]"
   ]
  },
  {
   "cell_type": "code",
   "execution_count": 21,
   "id": "eb6a60a8-a415-4ba2-b723-b9dff8181fca",
   "metadata": {},
   "outputs": [
    {
     "data": {
      "text/plain": [
       "'tist'"
      ]
     },
     "execution_count": 21,
     "metadata": {},
     "output_type": "execute_result"
    }
   ],
   "source": [
    "anna[5:9]"
   ]
  },
  {
   "cell_type": "code",
   "execution_count": 22,
   "id": "c51c5953-1175-4a1b-b69e-4df99f2f045f",
   "metadata": {},
   "outputs": [
    {
     "data": {
      "text/plain": [
       "'st'"
      ]
     },
     "execution_count": 22,
     "metadata": {},
     "output_type": "execute_result"
    }
   ],
   "source": [
    "anna[-3:-1]"
   ]
  },
  {
   "cell_type": "code",
   "execution_count": 23,
   "id": "088deae6-aae3-4268-9cb2-1b655cecb0b2",
   "metadata": {},
   "outputs": [
    {
     "data": {
      "text/plain": [
       "'st!'"
      ]
     },
     "execution_count": 23,
     "metadata": {},
     "output_type": "execute_result"
    }
   ],
   "source": [
    "anna[-3:]"
   ]
  },
  {
   "cell_type": "code",
   "execution_count": 24,
   "id": "9a408b88-1f80-4915-834b-385fa987ff18",
   "metadata": {},
   "outputs": [
    {
     "data": {
      "text/plain": [
       "'scien'"
      ]
     },
     "execution_count": 24,
     "metadata": {},
     "output_type": "execute_result"
    }
   ],
   "source": [
    "anna[:5]"
   ]
  },
  {
   "cell_type": "code",
   "execution_count": 25,
   "id": "d0ca63f7-5595-4e2a-838a-a7eac14d3f30",
   "metadata": {},
   "outputs": [
    {
     "data": {
      "text/plain": [
       "'scientist!'"
      ]
     },
     "execution_count": 25,
     "metadata": {},
     "output_type": "execute_result"
    }
   ],
   "source": [
    "anna[:]"
   ]
  },
  {
   "cell_type": "code",
   "execution_count": 32,
   "id": "61ed21b3-d9b6-469d-a769-d6cfe4308d9c",
   "metadata": {},
   "outputs": [
    {
     "name": "stdout",
     "output_type": "stream",
     "text": [
      "['vincent', 'sesha', 'tanner']\n"
     ]
    }
   ],
   "source": [
    "students = [\"vincent\", \"sesha\", \"tanner\"]\n",
    "print(students)"
   ]
  },
  {
   "cell_type": "code",
   "execution_count": 27,
   "id": "ac527586-cf07-4fa5-b13f-3dc6e3317126",
   "metadata": {},
   "outputs": [
    {
     "data": {
      "text/plain": [
       "'vincent'"
      ]
     },
     "execution_count": 27,
     "metadata": {},
     "output_type": "execute_result"
    }
   ],
   "source": [
    "students[0]"
   ]
  },
  {
   "cell_type": "code",
   "execution_count": 28,
   "id": "cdb9cd40-3d14-4816-b703-0e5d27318f38",
   "metadata": {},
   "outputs": [
    {
     "data": {
      "text/plain": [
       "['vincent', 'sesha']"
      ]
     },
     "execution_count": 28,
     "metadata": {},
     "output_type": "execute_result"
    }
   ],
   "source": [
    "students[0:2]"
   ]
  },
  {
   "cell_type": "code",
   "execution_count": 29,
   "id": "f57db546-89c4-48ef-a1eb-3b5507b99974",
   "metadata": {},
   "outputs": [
    {
     "data": {
      "text/plain": [
       "'v'"
      ]
     },
     "execution_count": 29,
     "metadata": {},
     "output_type": "execute_result"
    }
   ],
   "source": [
    "students[0][0]"
   ]
  },
  {
   "cell_type": "code",
   "execution_count": 30,
   "id": "05e37e05-3117-42e5-8912-a28cc4cd7094",
   "metadata": {},
   "outputs": [
    {
     "data": {
      "text/plain": [
       "'e'"
      ]
     },
     "execution_count": 30,
     "metadata": {},
     "output_type": "execute_result"
    }
   ],
   "source": [
    "students[1][1]"
   ]
  },
  {
   "cell_type": "code",
   "execution_count": 31,
   "id": "807ab00d-ce81-4b3d-9e1e-c6c6dc0525ee",
   "metadata": {},
   "outputs": [
    {
     "data": {
      "text/plain": [
       "'es'"
      ]
     },
     "execution_count": 31,
     "metadata": {},
     "output_type": "execute_result"
    }
   ],
   "source": [
    "students[1][1:3]"
   ]
  },
  {
   "cell_type": "code",
   "execution_count": 33,
   "id": "11c13da0-6263-4251-b2f7-572609806258",
   "metadata": {},
   "outputs": [
    {
     "ename": "IndexError",
     "evalue": "list index out of range",
     "output_type": "error",
     "traceback": [
      "\u001b[0;31m---------------------------------------------------------------------------\u001b[0m",
      "\u001b[0;31mIndexError\u001b[0m                                Traceback (most recent call last)",
      "Input \u001b[0;32mIn [33]\u001b[0m, in \u001b[0;36m<cell line: 1>\u001b[0;34m()\u001b[0m\n\u001b[0;32m----> 1\u001b[0m \u001b[43mstudents\u001b[49m\u001b[43m[\u001b[49m\u001b[38;5;241;43m1\u001b[39;49m\u001b[43m:\u001b[49m\u001b[38;5;241;43m2\u001b[39;49m\u001b[43m]\u001b[49m\u001b[43m[\u001b[49m\u001b[38;5;241;43m1\u001b[39;49m\u001b[43m]\u001b[49m\n",
      "\u001b[0;31mIndexError\u001b[0m: list index out of range"
     ]
    }
   ],
   "source": [
    "students[1:2][1]"
   ]
  },
  {
   "cell_type": "code",
   "execution_count": 34,
   "id": "19931fb4-d684-4393-aeac-4bca3836e0bb",
   "metadata": {},
   "outputs": [
    {
     "data": {
      "text/plain": [
       "['sesha']"
      ]
     },
     "execution_count": 34,
     "metadata": {},
     "output_type": "execute_result"
    }
   ],
   "source": [
    "students[1:2]"
   ]
  },
  {
   "cell_type": "code",
   "execution_count": 35,
   "id": "f0e33702-2ebb-4d35-863d-c1f161767ce2",
   "metadata": {},
   "outputs": [
    {
     "data": {
      "text/plain": [
       "'sesha'"
      ]
     },
     "execution_count": 35,
     "metadata": {},
     "output_type": "execute_result"
    }
   ],
   "source": [
    "students[1]"
   ]
  },
  {
   "cell_type": "code",
   "execution_count": 37,
   "id": "15854f23-cc5e-4a88-98a4-b33a4c7776eb",
   "metadata": {},
   "outputs": [
    {
     "data": {
      "text/plain": [
       "['vincent', 'sesha', 'tanner']"
      ]
     },
     "execution_count": 37,
     "metadata": {},
     "output_type": "execute_result"
    }
   ],
   "source": [
    "students"
   ]
  },
  {
   "cell_type": "code",
   "execution_count": 38,
   "id": "56ce69a4-6a35-455f-bc08-f588987af834",
   "metadata": {},
   "outputs": [
    {
     "data": {
      "text/plain": [
       "[]"
      ]
     },
     "execution_count": 38,
     "metadata": {},
     "output_type": "execute_result"
    }
   ],
   "source": [
    "students[1:1]"
   ]
  },
  {
   "cell_type": "code",
   "execution_count": 39,
   "id": "c7067995-f45a-41d1-9aaf-857fa67ba969",
   "metadata": {},
   "outputs": [
    {
     "name": "stdout",
     "output_type": "stream",
     "text": [
      "['greg', 'aisha', 'sagal', 'vincent']\n"
     ]
    }
   ],
   "source": [
    "lefties = [\"greg\"]\n",
    "whatever = [\"aisha\", \"sagal\", \"vincent\"]\n",
    "print(lefties + whatever)"
   ]
  },
  {
   "cell_type": "code",
   "execution_count": 40,
   "id": "2cb7ea0d-13af-4003-ba54-a212a4595ddd",
   "metadata": {},
   "outputs": [
    {
     "name": "stdout",
     "output_type": "stream",
     "text": [
      "['aisha', 'sagal', 'vincent', 'greg']\n"
     ]
    }
   ],
   "source": [
    "print(whatever + lefties)"
   ]
  },
  {
   "cell_type": "code",
   "execution_count": 41,
   "id": "c3234bdb-aa96-4f14-809a-7391f4318d0a",
   "metadata": {},
   "outputs": [
    {
     "name": "stdout",
     "output_type": "stream",
     "text": [
      "['aisha', 'sagal', 'vincent']\n"
     ]
    }
   ],
   "source": [
    "print([] + whatever) # 0 + 3"
   ]
  },
  {
   "cell_type": "code",
   "execution_count": 43,
   "id": "76fe1c58-0115-46aa-9b65-40e0652cca38",
   "metadata": {},
   "outputs": [
    {
     "data": {
      "text/plain": [
       "'gökçe'"
      ]
     },
     "execution_count": 43,
     "metadata": {},
     "output_type": "execute_result"
    }
   ],
   "source": [
    "\"\" + \"gökçe\""
   ]
  },
  {
   "cell_type": "code",
   "execution_count": 44,
   "id": "b6ab280c-639b-4246-a3d6-a77f8223a499",
   "metadata": {},
   "outputs": [],
   "source": [
    "samples = [1.2, 3, 4.5]"
   ]
  },
  {
   "cell_type": "code",
   "execution_count": 45,
   "id": "bf458bd8-9cf9-4f14-84c3-31f25c4401a5",
   "metadata": {},
   "outputs": [
    {
     "name": "stdout",
     "output_type": "stream",
     "text": [
      "[1.2, 3, 4.5]\n"
     ]
    }
   ],
   "source": [
    "print(samples)"
   ]
  },
  {
   "cell_type": "code",
   "execution_count": 46,
   "id": "f0062889-3396-46cf-b416-6b247adfcc80",
   "metadata": {},
   "outputs": [],
   "source": [
    "experiment = [\"VAR122\", \"2022-09-05\", 12.5, 2.2, 6]"
   ]
  },
  {
   "cell_type": "code",
   "execution_count": 47,
   "id": "31ccd34e-233d-443d-8ae9-49e3533552b0",
   "metadata": {},
   "outputs": [
    {
     "name": "stdout",
     "output_type": "stream",
     "text": [
      "['VAR122', '2022-09-05', 12.5, 2.2, 6]\n"
     ]
    }
   ],
   "source": [
    "print(experiment)"
   ]
  },
  {
   "cell_type": "code",
   "execution_count": null,
   "id": "e5b7361f-9e0f-443c-8a62-1aace5d4bf6b",
   "metadata": {},
   "outputs": [],
   "source": []
  }
 ],
 "metadata": {
  "kernelspec": {
   "display_name": "Python 3 (ipykernel)",
   "language": "python",
   "name": "python3"
  },
  "language_info": {
   "codemirror_mode": {
    "name": "ipython",
    "version": 3
   },
   "file_extension": ".py",
   "mimetype": "text/x-python",
   "name": "python",
   "nbconvert_exporter": "python",
   "pygments_lexer": "ipython3",
   "version": "3.9.13"
  }
 },
 "nbformat": 4,
 "nbformat_minor": 5
}
