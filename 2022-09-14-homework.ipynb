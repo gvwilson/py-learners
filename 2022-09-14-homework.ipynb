{
 "cells": [
  {
   "cell_type": "markdown",
   "id": "d68db3d2-2a4b-48db-ae84-71a7a5a6702b",
   "metadata": {},
   "source": [
    "# Homework 2022-09-14\n",
    "\n",
    "This week we looked at *for loops*, which are a way to tell Python to do some operations repeatedly. Let's start by writing a loop that prints the letters in a piece of text one by one:"
   ]
  },
  {
   "cell_type": "code",
   "execution_count": 54,
   "id": "5b3cf173-c978-4863-b6e7-6f558d7cee42",
   "metadata": {},
   "outputs": [
    {
     "name": "stdout",
     "output_type": "stream",
     "text": [
      "Hello M\n",
      "Hello i\n",
      "Hello l\n",
      "Hello o\n",
      "Hello s\n"
     ]
    }
   ],
   "source": [
    "scott = \"Milos\"\n",
    "for letter in scott:\n",
    "    print(\"Hello\", letter)"
   ]
  },
  {
   "cell_type": "markdown",
   "id": "67adb021-b7d6-463c-a7a8-5af0c892c17c",
   "metadata": {},
   "source": [
    "The first line of every loop has the same structure: the word `for`, a temporary variable that will be assigned each part of something in turn, the word `in`, and then something that has parts. In this case, the variable is `letter`, and the things with parts is `scott` (the parts are the letters in the string). The operation(s) that the loop runs are indented below the first line to show that they belong to the loop: in this case there's just one line that prints each letter in turn."
   ]
  },
  {
   "cell_type": "markdown",
   "id": "9aea47b5-4f3a-423a-b59d-7d00e98f3227",
   "metadata": {},
   "source": [
    "Please note that we can call the temporary variable anything we want. For example, we could use the variable name `number` instead of the name `letter`. This would be a really bad idea, though: the computer doesn't care what we call our variables, but the next person reading your code will be pretty confused if you call the variable `number` and it holds a letter."
   ]
  },
  {
   "cell_type": "markdown",
   "id": "b0d912b3-839f-409e-bee0-073538838a18",
   "metadata": {},
   "source": [
    "The parts of a character string are its characters; the parts of a list are the items in the list. Let's run this loop:"
   ]
  },
  {
   "cell_type": "code",
   "execution_count": 55,
   "id": "c62fc6b9-41a8-49f3-be81-24ab8db2a9bf",
   "metadata": {},
   "outputs": [
    {
     "name": "stdout",
     "output_type": "stream",
     "text": [
      "Hello sakshi\n",
      "Hello james\n",
      "Hello vincent\n"
     ]
    }
   ],
   "source": [
    "people = [\"sakshi\", \"james\", \"vincent\"]\n",
    "for person in people:\n",
    "    print(\"Hello\", person)"
   ]
  },
  {
   "cell_type": "markdown",
   "id": "ef5c9807-0367-4c7f-b087-d6570ac46ee1",
   "metadata": {},
   "source": [
    "The first time around the loop, `person` is assigned `\"sakshi\"` because that's the first thing in the list. The second time around, `person` is `\"james\"`, and the third time, `\"vincent\"`.\n",
    "\n",
    "A loop can hold many things, including other loops. Let's try this:"
   ]
  },
  {
   "cell_type": "code",
   "execution_count": 56,
   "id": "c6a18d2b-ef99-4375-8d85-d510af071d0f",
   "metadata": {},
   "outputs": [
    {
     "name": "stdout",
     "output_type": "stream",
     "text": [
      "whole color is red\n",
      "r\n",
      "e\n",
      "d\n",
      "whole color is tan\n",
      "t\n",
      "a\n",
      "n\n"
     ]
    }
   ],
   "source": [
    "colors = [\"red\", \"tan\"]\n",
    "for col in colors:\n",
    "    print(\"whole color is\", col)\n",
    "    for letter in col:\n",
    "        print(letter)"
   ]
  },
  {
   "cell_type": "markdown",
   "id": "d8bd2187-cf82-49ae-8f2f-fbd2bddcdd22",
   "metadata": {},
   "source": [
    "Let's trace the code above.\n",
    "\n",
    "1. `colors` is assigned a list with two strings.\n",
    "2. The *outer loop* assigns `\"red\"` to the variable `col`.\n",
    "3. The first `print` runs and prints `whole color is red`.\n",
    "4. The *inner loop* now runs once for each letter in the current value of `col`, i.e., once for each letter in `\"red\"`.\n",
    "5. Once the inner loop finishes printing the three letters in `\"red\"`, the first lap around the outer loop is finished.\n",
    "6. The second lap of the outer loop now begins by assigning `\"tan\"` to `col`.\n",
    "7. The code prints `whole color is tan` …\n",
    "8. … and then prints each letter in `\"tan\"` one by one.\n",
    "\n",
    "The example above isn't very useful, but here's another way to use nested loops that is.\n",
    "It's quite common to represent a table as a list of lists:\n",
    "each sub-list is a row, and the values in those rows correspond to columns.\n",
    "For example, here's the table:\n",
    "\n",
    "<table>\n",
    "    <tr><td>10</td><td>20</td></tr>\n",
    "    <tr><td>30</td><td>40</td></tr>\n",
    "</table>"
   ]
  },
  {
   "cell_type": "code",
   "execution_count": 57,
   "id": "9ebdc288-2358-4201-af91-e8043603f704",
   "metadata": {},
   "outputs": [
    {
     "name": "stdout",
     "output_type": "stream",
     "text": [
      "[[10, 20], [30, 40]]\n"
     ]
    }
   ],
   "source": [
    "table = [\n",
    "    [10, 20],\n",
    "    [30, 40]\n",
    "]\n",
    "print(table)"
   ]
  },
  {
   "cell_type": "markdown",
   "id": "0a2b7ef0-bbcb-4ce2-a745-24e7641a6ffb",
   "metadata": {},
   "source": [
    "Let's add up all the values in the table:"
   ]
  },
  {
   "cell_type": "code",
   "execution_count": 58,
   "id": "d8c39aed-9ee2-425f-b552-c99718faa561",
   "metadata": {},
   "outputs": [
    {
     "name": "stdout",
     "output_type": "stream",
     "text": [
      "Total 100\n"
     ]
    }
   ],
   "source": [
    "total = 0\n",
    "for row in table:\n",
    "    for value in row:\n",
    "        total = total + value\n",
    "print(\"Total\", total)"
   ]
  },
  {
   "cell_type": "markdown",
   "id": "db55abd8-0f16-43c9-a741-93121105387d",
   "metadata": {},
   "source": [
    "There are just a couple of other things you'll need for the homework questions.\n",
    "The first is the functions `max` and `min`, which do what you expected for numbers:"
   ]
  },
  {
   "cell_type": "code",
   "execution_count": 59,
   "id": "9cc7a6ab-fffa-4a77-be6e-ba1a470294d3",
   "metadata": {},
   "outputs": [
    {
     "name": "stdout",
     "output_type": "stream",
     "text": [
      "5\n"
     ]
    }
   ],
   "source": [
    "print(max(3, 5))"
   ]
  },
  {
   "cell_type": "code",
   "execution_count": 60,
   "id": "b904f2f2-86e3-497f-b70b-396306205405",
   "metadata": {},
   "outputs": [
    {
     "name": "stdout",
     "output_type": "stream",
     "text": [
      "3\n"
     ]
    }
   ],
   "source": [
    "print(min(3, 5))"
   ]
  },
  {
   "cell_type": "markdown",
   "id": "12de2261-5f5f-41ce-967d-46986634f560",
   "metadata": {},
   "source": [
    "They also work on strings, which use *dictionary order*:"
   ]
  },
  {
   "cell_type": "code",
   "execution_count": 61,
   "id": "6e5e047c-6547-4c40-9de4-d79c24229cf8",
   "metadata": {},
   "outputs": [
    {
     "name": "stdout",
     "output_type": "stream",
     "text": [
      "Vincent\n"
     ]
    }
   ],
   "source": [
    "print(max(\"Vincent\", \"Anna\"))"
   ]
  },
  {
   "cell_type": "code",
   "execution_count": 62,
   "id": "8873a44f-272b-4b22-9f78-002639b34a37",
   "metadata": {},
   "outputs": [
    {
     "name": "stdout",
     "output_type": "stream",
     "text": [
      "Zag\n"
     ]
    }
   ],
   "source": [
    "print(max(\"Vincent\", \"Zag\"))"
   ]
  },
  {
   "cell_type": "markdown",
   "id": "5152ddf3-9897-4696-9067-b094e1f3df4d",
   "metadata": {},
   "source": [
    "But wait: what's going on here?"
   ]
  },
  {
   "cell_type": "code",
   "execution_count": 63,
   "id": "752b3c4b-b0c1-4b1f-b4c6-ab62d0e8a356",
   "metadata": {},
   "outputs": [
    {
     "name": "stdout",
     "output_type": "stream",
     "text": [
      "vincent\n"
     ]
    }
   ],
   "source": [
    "print(max(\"vincent\", \"Anna\"))"
   ]
  },
  {
   "cell_type": "markdown",
   "id": "f08b7d3b-822e-41cb-ae78-d7467a1d799f",
   "metadata": {},
   "source": [
    "The problem is that, for historical reasons, all lower-case letters come *after* all upper-case letters. For example:"
   ]
  },
  {
   "cell_type": "code",
   "execution_count": 64,
   "id": "3ad9bdfe-e550-409c-9c85-34ed82b04188",
   "metadata": {},
   "outputs": [
    {
     "name": "stdout",
     "output_type": "stream",
     "text": [
      "True\n"
     ]
    }
   ],
   "source": [
    "print(\"a\" < \"z\")"
   ]
  },
  {
   "cell_type": "code",
   "execution_count": 65,
   "id": "34a6694e-b279-492d-971b-d15620b92c8f",
   "metadata": {},
   "outputs": [
    {
     "name": "stdout",
     "output_type": "stream",
     "text": [
      "False\n"
     ]
    }
   ],
   "source": [
    "print(\"a\" < \"Z\")"
   ]
  },
  {
   "cell_type": "markdown",
   "id": "73589698-4094-4f53-b4bc-72f8ca3709c9",
   "metadata": {},
   "source": [
    "The rules are even more complicated when you have accented characters or non-Latin characters:"
   ]
  },
  {
   "cell_type": "code",
   "execution_count": 66,
   "id": "5d7aefa5-1bb1-4019-be3a-44d8dd5fe71e",
   "metadata": {},
   "outputs": [
    {
     "name": "stdout",
     "output_type": "stream",
     "text": [
      "True\n"
     ]
    }
   ],
   "source": [
    "print(\"u\" < \"ü\")"
   ]
  },
  {
   "cell_type": "code",
   "execution_count": 67,
   "id": "8a54ce6a-0ad3-4afe-bcbe-2f99a779e46e",
   "metadata": {},
   "outputs": [
    {
     "name": "stdout",
     "output_type": "stream",
     "text": [
      "False\n"
     ]
    }
   ],
   "source": [
    "print(\"α\" < \"z\")"
   ]
  },
  {
   "cell_type": "markdown",
   "id": "488f5dfd-a3e0-4dab-870d-6402fcd5ea0d",
   "metadata": {},
   "source": [
    "## Homework\n",
    "\n",
    "Fill in the underscores `___` in the code below to concatenate all the strings in the list. The result should be the single word `redgreenblue`."
   ]
  },
  {
   "cell_type": "code",
   "execution_count": 7,
   "id": "394a391d-d95d-4e97-a256-b046c97a6f96",
   "metadata": {},
   "outputs": [
    {
     "name": "stdout",
     "output_type": "stream",
     "text": [
      "bluegreenred\n"
     ]
    }
   ],
   "source": [
    "result = \"\"\n",
    "for color in [\"red\", \"green\", \"blue\"]:\n",
    "    result = color + result\n",
    "print(result)"
   ]
  },
  {
   "cell_type": "markdown",
   "id": "a1499e81-1331-45d3-ba0c-7e052467319d",
   "metadata": {},
   "source": [
    "Fill in the underscores in the code below to find the \"largest\" string in the list (i.e., the one that comes last in a dictionary)."
   ]
  },
  {
   "cell_type": "code",
   "execution_count": 6,
   "id": "767f0950-4915-478b-9306-80a2bc788a63",
   "metadata": {},
   "outputs": [
    {
     "name": "stdout",
     "output_type": "stream",
     "text": [
      "red\n"
     ]
    }
   ],
   "source": [
    "result = \"\"\n",
    "for color in [\"red\", \"green\", \"blue\"]:\n",
    "    result = max(result, color)\n",
    "print(result)"
   ]
  },
  {
   "cell_type": "markdown",
   "id": "27a9cfda-d165-4ad4-801a-148bf93d6368",
   "metadata": {},
   "source": [
    "The function `len` gives you the length of a string (i.e., the number of characters it contains). For example, `len(\"red\")` is 3. Use this to find the length of the longest string in the list (which should be 5):"
   ]
  },
  {
   "cell_type": "code",
   "execution_count": 8,
   "id": "1c95bae9-19d7-484f-970e-892f577bfa1e",
   "metadata": {},
   "outputs": [
    {
     "name": "stdout",
     "output_type": "stream",
     "text": [
      "5\n"
     ]
    }
   ],
   "source": [
    "result = 0\n",
    "for color in [\"red\", \"green\", \"blue\"]:\n",
    "    result = max(result, len(color))\n",
    "print(result)"
   ]
  },
  {
   "cell_type": "markdown",
   "id": "bc7a3524-2a7b-4685-ae49-e35ae306c654",
   "metadata": {},
   "source": [
    "You can concatenate two lists using `+`. For example, `[1, 3] + [5, 7]` is the list `[1, 3, 5, 7]`.\n",
    "Use this to create a list that contains the lengths of all the color names, which should be `[3, 5, 4]`."
   ]
  },
  {
   "cell_type": "code",
   "execution_count": 9,
   "id": "6d8a4010-0c11-49c8-83cd-2a4ba151975b",
   "metadata": {},
   "outputs": [
    {
     "name": "stdout",
     "output_type": "stream",
     "text": [
      "[3, 5, 4]\n"
     ]
    }
   ],
   "source": [
    "result = []\n",
    "for color in [\"red\", \"green\", \"blue\"]:\n",
    "    result = result + [len(color)]\n",
    "print(result)"
   ]
  },
  {
   "cell_type": "markdown",
   "id": "c6cd081e-b51d-4fa6-b167-60b892e5aa38",
   "metadata": {},
   "source": [
    "Suppose we are using a list of lists to represent a table and we want to add up all the values along the diagonal.\n",
    "Fill in the blanks in the code below to do this."
   ]
  },
  {
   "cell_type": "code",
   "execution_count": null,
   "id": "911447b2-225e-45b1-afa1-1f8718e80c86",
   "metadata": {},
   "outputs": [],
   "source": [
    "table = [\n",
    "    [ 1,  2,  3,  4,  5],\n",
    "    [11, 12, 13, 14, 15],\n",
    "    [21, 22, 23, 24, 25],\n",
    "    [31, 32, 33, 34, 35],\n",
    "    [41, 42, 43, 44, 45]\n",
    "]\n",
    "\n",
    "diagonal = 0\n",
    "for i in [0, 1, 2, 3, 4]:\n",
    "    diagonal = diagonal + table[____][____]\n",
    "print(diagonal)"
   ]
  }
 ],
 "metadata": {
  "kernelspec": {
   "display_name": "Python 3 (ipykernel)",
   "language": "python",
   "name": "python3"
  },
  "language_info": {
   "codemirror_mode": {
    "name": "ipython",
    "version": 3
   },
   "file_extension": ".py",
   "mimetype": "text/x-python",
   "name": "python",
   "nbconvert_exporter": "python",
   "pygments_lexer": "ipython3",
   "version": "3.9.13"
  }
 },
 "nbformat": 4,
 "nbformat_minor": 5
}
