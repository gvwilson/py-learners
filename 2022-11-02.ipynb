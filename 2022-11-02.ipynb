{
 "cells": [
  {
   "cell_type": "markdown",
   "id": "2583cfa9-0c74-491e-a6ef-a93562a8d6f3",
   "metadata": {},
   "source": [
    "# Dictionaries\n",
    "\n",
    "A list stores zero or more items in order. If it has *N* items, we can think of it as a lookup table where the index 0 identifies the first element, the index 1 identifies the second, and so on:"
   ]
  },
  {
   "cell_type": "code",
   "execution_count": 1,
   "id": "1b6a15a6-52ec-414b-bf54-4aca0f46cc89",
   "metadata": {},
   "outputs": [
    {
     "name": "stdout",
     "output_type": "stream",
     "text": [
      "length of weights: 4\n",
      "element at index 2: 22\n"
     ]
    }
   ],
   "source": [
    "weights = [10, 15, 22, 55]\n",
    "print(\"length of weights:\", len(weights))\n",
    "print(\"element at index 2:\", weights[2])"
   ]
  },
  {
   "cell_type": "markdown",
   "id": "6bc490ed-0f32-4fa7-b3b7-f9918cd58c62",
   "metadata": {},
   "source": [
    "A *dictionary* is another kind of lookup table. Instead of identifying items with the keys 0, 1, 2, and so on, we can identify items with (almost) any key we want. For example, here's a dictionary that records how many times we've seen each base. The keys are the strings `\"A\"`, `\"C\"`, `\"G\"`, and `\"T\"`, and the values are integers:"
   ]
  },
  {
   "cell_type": "code",
   "execution_count": 2,
   "id": "f66a7593-1bb8-48c4-be58-dd2803058eaf",
   "metadata": {},
   "outputs": [
    {
     "name": "stdout",
     "output_type": "stream",
     "text": [
      "{'A': 3, 'C': 5, 'G': 0, 'T': 1}\n"
     ]
    }
   ],
   "source": [
    "bases = {\"A\": 3, \"C\": 5, \"G\": 0, \"T\": 1}\n",
    "print(bases)"
   ]
  },
  {
   "cell_type": "markdown",
   "id": "a461084a-a1d9-44d8-a4d0-cf09273db580",
   "metadata": {},
   "source": [
    "We create a dictionary with `{...}` (curly braces), but when we want to get an item, we use `[…]` just as we do for a list. (Everything in Python uses `[…]` for looking up items, no matter what kind of container they're in.)"
   ]
  },
  {
   "cell_type": "code",
   "execution_count": 3,
   "id": "8dd7f5ae-3581-4c84-86a8-bb102b6ae31b",
   "metadata": {},
   "outputs": [
    {
     "data": {
      "text/plain": [
       "5"
      ]
     },
     "execution_count": 3,
     "metadata": {},
     "output_type": "execute_result"
    }
   ],
   "source": [
    "bases[\"C\"]"
   ]
  },
  {
   "cell_type": "code",
   "execution_count": 4,
   "id": "5ebc5dba-5499-4540-8c78-b536f54a939e",
   "metadata": {},
   "outputs": [
    {
     "data": {
      "text/plain": [
       "0"
      ]
     },
     "execution_count": 4,
     "metadata": {},
     "output_type": "execute_result"
    }
   ],
   "source": [
    "bases[\"G\"]"
   ]
  },
  {
   "cell_type": "markdown",
   "id": "5f811e36-d4fa-4413-8ea8-5ad0a255783e",
   "metadata": {},
   "source": [
    "If we try to get the 99th element of a list that only has 3 items, Python flags it as an error. Python does the same thing if we try to look up an item in a dictionary using a key that isn't present:"
   ]
  },
  {
   "cell_type": "code",
   "execution_count": 5,
   "id": "b45aa1a1-75d3-473d-b35a-306fb29f4b5d",
   "metadata": {},
   "outputs": [
    {
     "ename": "KeyError",
     "evalue": "'Z'",
     "output_type": "error",
     "traceback": [
      "\u001b[0;31m---------------------------------------------------------------------------\u001b[0m",
      "\u001b[0;31mKeyError\u001b[0m                                  Traceback (most recent call last)",
      "Input \u001b[0;32mIn [5]\u001b[0m, in \u001b[0;36m<cell line: 1>\u001b[0;34m()\u001b[0m\n\u001b[0;32m----> 1\u001b[0m \u001b[43mbases\u001b[49m\u001b[43m[\u001b[49m\u001b[38;5;124;43m\"\u001b[39;49m\u001b[38;5;124;43mZ\u001b[39;49m\u001b[38;5;124;43m\"\u001b[39;49m\u001b[43m]\u001b[49m\n",
      "\u001b[0;31mKeyError\u001b[0m: 'Z'"
     ]
    }
   ],
   "source": [
    "bases[\"Z\"]"
   ]
  },
  {
   "cell_type": "markdown",
   "id": "7b657da1-f72d-482b-83c9-fff482fa3d05",
   "metadata": {},
   "source": [
    "We can add a new item to a dictionary by using the new key and assigning a value:"
   ]
  },
  {
   "cell_type": "code",
   "execution_count": 6,
   "id": "881ba64b-97ce-4c5f-a49a-8e0b7cc53cd2",
   "metadata": {},
   "outputs": [
    {
     "name": "stdout",
     "output_type": "stream",
     "text": [
      "{'A': 3, 'C': 5, 'G': 0, 'T': 1, 'U': 17}\n"
     ]
    }
   ],
   "source": [
    "bases[\"U\"] = 17\n",
    "print(bases)"
   ]
  },
  {
   "cell_type": "markdown",
   "id": "af586eb7-2c59-4a82-8efa-f2c3504c5b00",
   "metadata": {},
   "source": [
    "If the key is already there, the new value replaces the old one:"
   ]
  },
  {
   "cell_type": "code",
   "execution_count": 8,
   "id": "467f78fb-2fb1-44c7-ade1-98052b1b00d5",
   "metadata": {},
   "outputs": [
    {
     "name": "stdout",
     "output_type": "stream",
     "text": [
      "{'A': 3, 'C': 5, 'G': 0, 'T': 1, 'U': 8}\n"
     ]
    }
   ],
   "source": [
    "bases[\"U\"] = 8\n",
    "print(bases)"
   ]
  },
  {
   "cell_type": "markdown",
   "id": "8cf6b0ca-99b7-42ac-bf7f-49d742e7cea7",
   "metadata": {},
   "source": [
    "The length of a dictionary is (quite reasonably) how many key/value pairs it contains:"
   ]
  },
  {
   "cell_type": "code",
   "execution_count": 9,
   "id": "59f4901c-1666-4ef3-805e-1bc9f3b9d53c",
   "metadata": {},
   "outputs": [
    {
     "name": "stdout",
     "output_type": "stream",
     "text": [
      "5\n"
     ]
    }
   ],
   "source": [
    "print(len(bases))"
   ]
  },
  {
   "cell_type": "markdown",
   "id": "fb9661a0-7270-4aeb-99b7-bc5c1c623403",
   "metadata": {},
   "source": [
    "And we can check if a key is in a dictionary or not using the `in` operator:"
   ]
  },
  {
   "cell_type": "code",
   "execution_count": 19,
   "id": "0d53d028-8b29-45b2-b4e5-10008c66f1af",
   "metadata": {},
   "outputs": [
    {
     "name": "stdout",
     "output_type": "stream",
     "text": [
      "A is there\n"
     ]
    }
   ],
   "source": [
    "if \"A\" in bases:\n",
    "    print(\"A is there\")\n",
    "else:\n",
    "    print(\"oops\")"
   ]
  },
  {
   "cell_type": "markdown",
   "id": "738950e1-19e5-4942-90df-befc43f75f70",
   "metadata": {},
   "source": [
    "If we want to process the items in the dictionary, we can use a `for` loop. The loop variable (which we've called `key` in the example below) is assigned each key in the dictionary, one at a time. We can use that to look up the value:"
   ]
  },
  {
   "cell_type": "code",
   "execution_count": 10,
   "id": "151e2260-9978-46a5-89a4-d9c88ac59c8f",
   "metadata": {},
   "outputs": [
    {
     "name": "stdout",
     "output_type": "stream",
     "text": [
      "key A has value 3\n",
      "key C has value 5\n",
      "key G has value 0\n",
      "key T has value 1\n",
      "key U has value 8\n"
     ]
    }
   ],
   "source": [
    "for key in bases:\n",
    "    print(\"key\", key, \"has value\", bases[key])"
   ]
  },
  {
   "cell_type": "markdown",
   "id": "a21046a8-05ef-46fe-8c2e-0a6a40a047d3",
   "metadata": {},
   "source": [
    "We can only store one value for each key, but that value can be a list holding multiple items:"
   ]
  },
  {
   "cell_type": "code",
   "execution_count": 11,
   "id": "fc9e8e70-76f2-47f7-a9ec-0fd54fc6479f",
   "metadata": {},
   "outputs": [
    {
     "name": "stdout",
     "output_type": "stream",
     "text": [
      "we know about 4 creatures in all\n"
     ]
    }
   ],
   "source": [
    "creatures = {\n",
    "    \"mammal\": [\"dog\", \"skunk\"],\n",
    "    \"bird\": [\"crow\", \"goose\"],\n",
    "    \"lizard\": []\n",
    "}\n",
    "total = 0\n",
    "for kind in creatures:\n",
    "    total = total + len(creatures[kind])\n",
    "print(\"we know about\", total, \"creatures in all\")"
   ]
  },
  {
   "cell_type": "markdown",
   "id": "91b83aad-19b3-4d92-90e4-ef47ac7f6329",
   "metadata": {},
   "source": [
    "It's common to have dictionaries in dictionaries to create multi-level lookup tables:"
   ]
  },
  {
   "cell_type": "code",
   "execution_count": 13,
   "id": "8c5f8a6c-94bd-470f-8fe8-ec345b7e878b",
   "metadata": {},
   "outputs": [
    {
     "name": "stdout",
     "output_type": "stream",
     "text": [
      "{'mouse': {'name': 'Mickey', 'age': 80}, 'dog': {'name': 'Goofy', 'age': 60}, 'bird': {'name': 'Tweety', 'age': 45}}\n"
     ]
    }
   ],
   "source": [
    "data = {\n",
    "    \"mouse\": {\"name\": \"Mickey\", \"age\": 80},\n",
    "    \"dog\": {\"name\": \"Goofy\", \"age\": 60},\n",
    "    \"bird\": {\"name\": \"Tweety\", \"age\": 45}\n",
    "}\n",
    "print(data)"
   ]
  },
  {
   "cell_type": "markdown",
   "id": "e5539e31-2b94-4ef3-9ea9-abafc17b203b",
   "metadata": {},
   "source": [
    "We can only use one key directly with the top-level dictionary:"
   ]
  },
  {
   "cell_type": "code",
   "execution_count": 14,
   "id": "238f6e90-9a19-411b-ac69-e085fea4139c",
   "metadata": {},
   "outputs": [
    {
     "name": "stdout",
     "output_type": "stream",
     "text": [
      "{'name': 'Mickey', 'age': 80}\n"
     ]
    }
   ],
   "source": [
    "print(data[\"mouse\"])"
   ]
  },
  {
   "cell_type": "markdown",
   "id": "6057b7be-898e-49fc-80ed-b8a24ef67bdd",
   "metadata": {},
   "source": [
    "But since `data[\"mouse\"]` is another dictionary, we can immediately use another key to get a value out of it:"
   ]
  },
  {
   "cell_type": "code",
   "execution_count": 15,
   "id": "144d5783-33bd-4c88-bfce-786c22d46b0c",
   "metadata": {},
   "outputs": [
    {
     "name": "stdout",
     "output_type": "stream",
     "text": [
      "80\n"
     ]
    }
   ],
   "source": [
    "print(data[\"mouse\"][\"age\"])"
   ]
  },
  {
   "cell_type": "markdown",
   "id": "3c05e741-fcc1-47ce-a46d-d338099cc4e8",
   "metadata": {},
   "source": [
    "We have to work our way down from the top, though: we can't skip a key and get all the names like this:"
   ]
  },
  {
   "cell_type": "code",
   "execution_count": 16,
   "id": "2f6fc7a6-a373-4bc6-ab1f-039931b562f7",
   "metadata": {},
   "outputs": [
    {
     "ename": "SyntaxError",
     "evalue": "invalid syntax (1586995482.py, line 1)",
     "output_type": "error",
     "traceback": [
      "\u001b[0;36m  Input \u001b[0;32mIn [16]\u001b[0;36m\u001b[0m\n\u001b[0;31m    print(data[][\"name\"])\u001b[0m\n\u001b[0m               ^\u001b[0m\n\u001b[0;31mSyntaxError\u001b[0m\u001b[0;31m:\u001b[0m invalid syntax\n"
     ]
    }
   ],
   "source": [
    "print(data[][\"name\"])"
   ]
  },
  {
   "cell_type": "markdown",
   "id": "9502f73b-75df-4bd0-8587-ac50195cc359",
   "metadata": {},
   "source": [
    "Instead, we can loop over all the top-level entries and extract values from them:"
   ]
  },
  {
   "cell_type": "code",
   "execution_count": 17,
   "id": "b87f7821-3dd5-4df0-be09-d9c0385ce6b0",
   "metadata": {},
   "outputs": [
    {
     "name": "stdout",
     "output_type": "stream",
     "text": [
      "all the names ['Mickey', 'Goofy', 'Tweety']\n"
     ]
    }
   ],
   "source": [
    "names = []\n",
    "for species in data:\n",
    "    names.append(data[species][\"name\"])\n",
    "print(\"all the names\", names)"
   ]
  },
  {
   "cell_type": "markdown",
   "id": "bddc550a-67c3-4025-95cb-aa2f73fecf76",
   "metadata": {},
   "source": [
    "## Homework\n",
    "\n",
    "Dictionaries have a method called `update` that copies all the key/value pairs from one dictionary into another:"
   ]
  },
  {
   "cell_type": "code",
   "execution_count": 18,
   "id": "76602c73-112b-4a35-8716-adc7f9ec0143",
   "metadata": {},
   "outputs": [
    {
     "name": "stdout",
     "output_type": "stream",
     "text": [
      "{'red': 3, 'green': 5}\n"
     ]
    }
   ],
   "source": [
    "original = {\"red\": 3}\n",
    "other = {\"green\": 5}\n",
    "original.update(other)\n",
    "print(original)"
   ]
  },
  {
   "cell_type": "markdown",
   "id": "784b4668-53f6-423f-8979-e61633692bab",
   "metadata": {},
   "source": [
    "Fill in the function below to do the same thing *without* using the `update` method."
   ]
  },
  {
   "cell_type": "code",
   "execution_count": 5,
   "id": "353f7d62-2c1e-454e-b519-c6456ca7e0d6",
   "metadata": {},
   "outputs": [
    {
     "name": "stdout",
     "output_type": "stream",
     "text": [
      "{'A': 2, 'C': 3, 'James': 21, 'Sakshi': 25}\n"
     ]
    }
   ],
   "source": [
    "def update_dict(dest, source):\n",
    "    for key in source:\n",
    "        dest[key] = source[key]\n",
    "    return dest\n",
    "\n",
    "d = {\"A\": 2, \"C\": 99}\n",
    "update_dict(d, {\"C\": 3, \"James\": 21, \"Sakshi\": 25})\n",
    "print(d) # should show {\"A\": 2, \"C\": 3}"
   ]
  },
  {
   "cell_type": "markdown",
   "id": "412c883c-960d-4bd7-92f6-6f22eac3386b",
   "metadata": {},
   "source": [
    "A key can only appear once in a dictionary, but a value can appear any number of times. Write a function that takes a dictionary as input, counts how many times each value appears, and returns a dictionary with the result."
   ]
  },
  {
   "cell_type": "code",
   "execution_count": 6,
   "id": "6c11f054-a0c5-4ea5-9559-4b73946c876a",
   "metadata": {},
   "outputs": [
    {
     "name": "stdout",
     "output_type": "stream",
     "text": [
      "{'old': 1, 'young': 2}\n"
     ]
    }
   ],
   "source": [
    "def count_values(data):\n",
    "    result = {}\n",
    "    for key in data:\n",
    "        value = data[key]\n",
    "        if value not in result:\n",
    "            result[value] = 1\n",
    "        else:\n",
    "            result[value] = result[value] + 1\n",
    "    return result\n",
    "\n",
    "names = {\"Greg\": \"old\", \"Jesse\": \"young\", \"Bob\": \"young\"}\n",
    "seen = count_values(names)\n",
    "print(seen) # should show {\"old\": 1, \"young\": 2}"
   ]
  },
  {
   "cell_type": "markdown",
   "id": "71d2c266-931b-4d07-9973-85f987416394",
   "metadata": {},
   "source": [
    "Sometimes we want to find the intersection of two dictionaries: a list of all the keys that are in both. Write a function `intersection` that takes two dictionaries as input and produces the list of shared keys."
   ]
  },
  {
   "cell_type": "code",
   "execution_count": 7,
   "id": "02a495bf-730b-4a45-9b32-920778e7ebbf",
   "metadata": {},
   "outputs": [
    {
     "name": "stdout",
     "output_type": "stream",
     "text": [
      "['a', 'c']\n"
     ]
    }
   ],
   "source": [
    "def intersection(left, right):\n",
    "    result = []\n",
    "    for key in left:\n",
    "        if key in right:\n",
    "            result.append(key)\n",
    "    return result\n",
    "\n",
    "first = {\"a\": 1, \"b\": 2, \"c\": 3}\n",
    "second = {\"a\": 4, \"c\": 5, \"d\": 6}\n",
    "result = intersection(first, second)\n",
    "print(result) # should show [\"a\", \"c\"]"
   ]
  },
  {
   "cell_type": "code",
   "execution_count": 10,
   "id": "6ca2dfa2-4ded-4583-a81f-77757065dd14",
   "metadata": {},
   "outputs": [
    {
     "name": "stdout",
     "output_type": "stream",
     "text": [
      "{'c': 3}\n"
     ]
    }
   ],
   "source": [
    "def strict_intersection(left, right):\n",
    "    result = {}\n",
    "    for key in left:\n",
    "        if key in right:\n",
    "            if left[key] == right[key]:\n",
    "                result[key] = left[key]\n",
    "    return result\n",
    "\n",
    "first = {\"a\": 1, \"b\": 2, \"c\": 3}\n",
    "second = {\"a\": 4, \"c\": 3, \"d\": 6}\n",
    "result = strict_intersection(first, second)\n",
    "print(result)"
   ]
  },
  {
   "cell_type": "code",
   "execution_count": null,
   "id": "7eb80f5a-21a0-48bd-82aa-7ef495647178",
   "metadata": {},
   "outputs": [],
   "source": []
  }
 ],
 "metadata": {
  "kernelspec": {
   "display_name": "Python 3 (ipykernel)",
   "language": "python",
   "name": "python3"
  },
  "language_info": {
   "codemirror_mode": {
    "name": "ipython",
    "version": 3
   },
   "file_extension": ".py",
   "mimetype": "text/x-python",
   "name": "python",
   "nbconvert_exporter": "python",
   "pygments_lexer": "ipython3",
   "version": "3.9.13"
  }
 },
 "nbformat": 4,
 "nbformat_minor": 5
}
