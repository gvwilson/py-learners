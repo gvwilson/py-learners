{
 "cells": [
  {
   "cell_type": "markdown",
   "id": "a28316dc-5bef-421c-95a1-c44227478df0",
   "metadata": {},
   "source": [
    "# Dataframes\n",
    "\n",
    "This week we are looking at how to load tabular data into a *dataframe* and how to do some basic operations with it. We will use a Python library called Pandas for this, so the first step is to load the library into our notebook:"
   ]
  },
  {
   "cell_type": "code",
   "execution_count": 2,
   "id": "454bfb51-2f90-45e8-bce9-61424ae03d03",
   "metadata": {},
   "outputs": [],
   "source": [
    "import pandas"
   ]
  },
  {
   "cell_type": "markdown",
   "id": "2869aab4-782a-402b-b30e-b0e71f64b03d",
   "metadata": {},
   "source": [
    "The `import` keyword means \"load this library\" - we will use it to load lots of other libraries in the weeks to come.\n",
    "\n",
    "Since we're going to be doing a lot of things with Pandas, it's common to give it a nickname or *alias* as we load it using the `as` keyword:"
   ]
  },
  {
   "cell_type": "code",
   "execution_count": 3,
   "id": "8fdb383d-5b56-4e40-b944-073df889bcdf",
   "metadata": {},
   "outputs": [],
   "source": [
    "import pandas as pd"
   ]
  },
  {
   "cell_type": "markdown",
   "id": "9b9bf089-a349-495c-883e-6681296f5544",
   "metadata": {},
   "source": [
    "We can now refer to things from the Pandas library as pd.*thing*: the `.` separator means \"get the thing on the right from the thing on the left\". For example, we can read the file `colors.csv` like this:"
   ]
  },
  {
   "cell_type": "code",
   "execution_count": 4,
   "id": "5cf359bf-0fff-45d6-8153-367fa628bc9c",
   "metadata": {},
   "outputs": [],
   "source": [
    "colors = pd.read_csv(\"colors.csv\")"
   ]
  },
  {
   "cell_type": "markdown",
   "id": "d0d43ed5-c572-4c5b-a5af-b71372c45fe0",
   "metadata": {},
   "source": [
    "Left to right, the statement above is, \"Create a new variable called `colors` and assign it the result of using the `read_csv` function from `pd` (which is an alias for Pandas) with the file `colors.csv` (which we have to write as a string, hence the quotes).\"\n",
    "\n",
    "`read_csv` creates a dataframe: a table with named columns and zero or more rows. Let's have a look at its contents:"
   ]
  },
  {
   "cell_type": "code",
   "execution_count": 5,
   "id": "4921f2ec-69fa-4606-9990-841dc6698569",
   "metadata": {},
   "outputs": [
    {
     "data": {
      "text/html": [
       "<div>\n",
       "<style scoped>\n",
       "    .dataframe tbody tr th:only-of-type {\n",
       "        vertical-align: middle;\n",
       "    }\n",
       "\n",
       "    .dataframe tbody tr th {\n",
       "        vertical-align: top;\n",
       "    }\n",
       "\n",
       "    .dataframe thead th {\n",
       "        text-align: right;\n",
       "    }\n",
       "</style>\n",
       "<table border=\"1\" class=\"dataframe\">\n",
       "  <thead>\n",
       "    <tr style=\"text-align: right;\">\n",
       "      <th></th>\n",
       "      <th>name</th>\n",
       "      <th>red</th>\n",
       "      <th>green</th>\n",
       "      <th>blue</th>\n",
       "    </tr>\n",
       "  </thead>\n",
       "  <tbody>\n",
       "    <tr>\n",
       "      <th>0</th>\n",
       "      <td>black</td>\n",
       "      <td>0.0</td>\n",
       "      <td>0.0</td>\n",
       "      <td>0.0</td>\n",
       "    </tr>\n",
       "    <tr>\n",
       "      <th>1</th>\n",
       "      <td>blue</td>\n",
       "      <td>0.0</td>\n",
       "      <td>0.0</td>\n",
       "      <td>1.0</td>\n",
       "    </tr>\n",
       "    <tr>\n",
       "      <th>2</th>\n",
       "      <td>cyan</td>\n",
       "      <td>0.0</td>\n",
       "      <td>1.0</td>\n",
       "      <td>1.0</td>\n",
       "    </tr>\n",
       "    <tr>\n",
       "      <th>3</th>\n",
       "      <td>gray</td>\n",
       "      <td>0.5</td>\n",
       "      <td>0.5</td>\n",
       "      <td>0.5</td>\n",
       "    </tr>\n",
       "    <tr>\n",
       "      <th>4</th>\n",
       "      <td>green</td>\n",
       "      <td>0.0</td>\n",
       "      <td>0.5</td>\n",
       "      <td>0.0</td>\n",
       "    </tr>\n",
       "    <tr>\n",
       "      <th>5</th>\n",
       "      <td>lime</td>\n",
       "      <td>0.0</td>\n",
       "      <td>1.0</td>\n",
       "      <td>0.0</td>\n",
       "    </tr>\n",
       "    <tr>\n",
       "      <th>6</th>\n",
       "      <td>magenta</td>\n",
       "      <td>1.0</td>\n",
       "      <td>0.0</td>\n",
       "      <td>1.0</td>\n",
       "    </tr>\n",
       "    <tr>\n",
       "      <th>7</th>\n",
       "      <td>maroon</td>\n",
       "      <td>0.5</td>\n",
       "      <td>0.0</td>\n",
       "      <td>0.0</td>\n",
       "    </tr>\n",
       "    <tr>\n",
       "      <th>8</th>\n",
       "      <td>navy</td>\n",
       "      <td>0.0</td>\n",
       "      <td>0.0</td>\n",
       "      <td>0.5</td>\n",
       "    </tr>\n",
       "    <tr>\n",
       "      <th>9</th>\n",
       "      <td>olive</td>\n",
       "      <td>0.5</td>\n",
       "      <td>0.5</td>\n",
       "      <td>0.0</td>\n",
       "    </tr>\n",
       "    <tr>\n",
       "      <th>10</th>\n",
       "      <td>purple</td>\n",
       "      <td>0.5</td>\n",
       "      <td>0.0</td>\n",
       "      <td>0.5</td>\n",
       "    </tr>\n",
       "    <tr>\n",
       "      <th>11</th>\n",
       "      <td>red</td>\n",
       "      <td>1.0</td>\n",
       "      <td>0.0</td>\n",
       "      <td>0.0</td>\n",
       "    </tr>\n",
       "    <tr>\n",
       "      <th>12</th>\n",
       "      <td>teal</td>\n",
       "      <td>0.0</td>\n",
       "      <td>0.5</td>\n",
       "      <td>0.5</td>\n",
       "    </tr>\n",
       "    <tr>\n",
       "      <th>13</th>\n",
       "      <td>yellow</td>\n",
       "      <td>1.0</td>\n",
       "      <td>1.0</td>\n",
       "      <td>0.5</td>\n",
       "    </tr>\n",
       "    <tr>\n",
       "      <th>14</th>\n",
       "      <td>white</td>\n",
       "      <td>1.0</td>\n",
       "      <td>1.0</td>\n",
       "      <td>1.0</td>\n",
       "    </tr>\n",
       "  </tbody>\n",
       "</table>\n",
       "</div>"
      ],
      "text/plain": [
       "       name  red  green  blue\n",
       "0     black  0.0    0.0   0.0\n",
       "1      blue  0.0    0.0   1.0\n",
       "2      cyan  0.0    1.0   1.0\n",
       "3      gray  0.5    0.5   0.5\n",
       "4     green  0.0    0.5   0.0\n",
       "5      lime  0.0    1.0   0.0\n",
       "6   magenta  1.0    0.0   1.0\n",
       "7    maroon  0.5    0.0   0.0\n",
       "8      navy  0.0    0.0   0.5\n",
       "9     olive  0.5    0.5   0.0\n",
       "10   purple  0.5    0.0   0.5\n",
       "11      red  1.0    0.0   0.0\n",
       "12     teal  0.0    0.5   0.5\n",
       "13   yellow  1.0    1.0   0.5\n",
       "14    white  1.0    1.0   1.0"
      ]
     },
     "execution_count": 5,
     "metadata": {},
     "output_type": "execute_result"
    }
   ],
   "source": [
    "colors"
   ]
  },
  {
   "cell_type": "markdown",
   "id": "7f1dee97-363a-4d9a-afe0-b2f4238fa7e1",
   "metadata": {},
   "source": [
    "We can select a single column from the dataframe using its name, and do arithmetic on whole columns at once just as we would on simple variables. Let's calculate a weighted average of the red, green, and blue values of each color:"
   ]
  },
  {
   "cell_type": "code",
   "execution_count": 6,
   "id": "86da5ba9-953f-4be6-8463-bc0c48f06aef",
   "metadata": {},
   "outputs": [
    {
     "data": {
      "text/plain": [
       "0     0.000\n",
       "1     0.250\n",
       "2     0.750\n",
       "3     0.500\n",
       "4     0.250\n",
       "5     0.500\n",
       "6     0.500\n",
       "7     0.125\n",
       "8     0.125\n",
       "9     0.375\n",
       "10    0.250\n",
       "11    0.250\n",
       "12    0.375\n",
       "13    0.875\n",
       "14    1.000\n",
       "dtype: float64"
      ]
     },
     "execution_count": 6,
     "metadata": {},
     "output_type": "execute_result"
    }
   ],
   "source": [
    "(colors[\"red\"] + 2 * colors[\"green\"] + colors[\"blue\"]) / 4"
   ]
  },
  {
   "cell_type": "markdown",
   "id": "803baa23-6017-4971-89b6-cc611bf686ba",
   "metadata": {},
   "source": [
    "It's tempting to write `colors[\"red\", \"green\"]` to get two columns at once, but that doesn't work: we can only put one \"thing\" inside the `[...]`. However, that thing can be a list of column names like `[\"red\", \"green\"]`:"
   ]
  },
  {
   "cell_type": "code",
   "execution_count": 7,
   "id": "53a370fc-ca40-479d-8f50-dc711717ea76",
   "metadata": {},
   "outputs": [
    {
     "data": {
      "text/html": [
       "<div>\n",
       "<style scoped>\n",
       "    .dataframe tbody tr th:only-of-type {\n",
       "        vertical-align: middle;\n",
       "    }\n",
       "\n",
       "    .dataframe tbody tr th {\n",
       "        vertical-align: top;\n",
       "    }\n",
       "\n",
       "    .dataframe thead th {\n",
       "        text-align: right;\n",
       "    }\n",
       "</style>\n",
       "<table border=\"1\" class=\"dataframe\">\n",
       "  <thead>\n",
       "    <tr style=\"text-align: right;\">\n",
       "      <th></th>\n",
       "      <th>green</th>\n",
       "      <th>red</th>\n",
       "    </tr>\n",
       "  </thead>\n",
       "  <tbody>\n",
       "    <tr>\n",
       "      <th>0</th>\n",
       "      <td>0.0</td>\n",
       "      <td>0.0</td>\n",
       "    </tr>\n",
       "    <tr>\n",
       "      <th>1</th>\n",
       "      <td>0.0</td>\n",
       "      <td>0.0</td>\n",
       "    </tr>\n",
       "    <tr>\n",
       "      <th>2</th>\n",
       "      <td>1.0</td>\n",
       "      <td>0.0</td>\n",
       "    </tr>\n",
       "    <tr>\n",
       "      <th>3</th>\n",
       "      <td>0.5</td>\n",
       "      <td>0.5</td>\n",
       "    </tr>\n",
       "    <tr>\n",
       "      <th>4</th>\n",
       "      <td>0.5</td>\n",
       "      <td>0.0</td>\n",
       "    </tr>\n",
       "    <tr>\n",
       "      <th>5</th>\n",
       "      <td>1.0</td>\n",
       "      <td>0.0</td>\n",
       "    </tr>\n",
       "    <tr>\n",
       "      <th>6</th>\n",
       "      <td>0.0</td>\n",
       "      <td>1.0</td>\n",
       "    </tr>\n",
       "    <tr>\n",
       "      <th>7</th>\n",
       "      <td>0.0</td>\n",
       "      <td>0.5</td>\n",
       "    </tr>\n",
       "    <tr>\n",
       "      <th>8</th>\n",
       "      <td>0.0</td>\n",
       "      <td>0.0</td>\n",
       "    </tr>\n",
       "    <tr>\n",
       "      <th>9</th>\n",
       "      <td>0.5</td>\n",
       "      <td>0.5</td>\n",
       "    </tr>\n",
       "    <tr>\n",
       "      <th>10</th>\n",
       "      <td>0.0</td>\n",
       "      <td>0.5</td>\n",
       "    </tr>\n",
       "    <tr>\n",
       "      <th>11</th>\n",
       "      <td>0.0</td>\n",
       "      <td>1.0</td>\n",
       "    </tr>\n",
       "    <tr>\n",
       "      <th>12</th>\n",
       "      <td>0.5</td>\n",
       "      <td>0.0</td>\n",
       "    </tr>\n",
       "    <tr>\n",
       "      <th>13</th>\n",
       "      <td>1.0</td>\n",
       "      <td>1.0</td>\n",
       "    </tr>\n",
       "    <tr>\n",
       "      <th>14</th>\n",
       "      <td>1.0</td>\n",
       "      <td>1.0</td>\n",
       "    </tr>\n",
       "  </tbody>\n",
       "</table>\n",
       "</div>"
      ],
      "text/plain": [
       "    green  red\n",
       "0     0.0  0.0\n",
       "1     0.0  0.0\n",
       "2     1.0  0.0\n",
       "3     0.5  0.5\n",
       "4     0.5  0.0\n",
       "5     1.0  0.0\n",
       "6     0.0  1.0\n",
       "7     0.0  0.5\n",
       "8     0.0  0.0\n",
       "9     0.5  0.5\n",
       "10    0.0  0.5\n",
       "11    0.0  1.0\n",
       "12    0.5  0.0\n",
       "13    1.0  1.0\n",
       "14    1.0  1.0"
      ]
     },
     "execution_count": 7,
     "metadata": {},
     "output_type": "execute_result"
    }
   ],
   "source": [
    "colors[[\"green\", \"red\"]]"
   ]
  },
  {
   "cell_type": "markdown",
   "id": "72f5fd23-39dd-4177-abf9-9d2a76cc4af8",
   "metadata": {},
   "source": [
    "What about getting rows? It's tempting to write `colors[0]` to get the first row (remember, Python counts from 0), but the creators of Pandas decided that would be ambiguous: does it mean the first row or the first column? Instead, we use a *property* of the dataframe called `iloc`, which is short for \"integer location\". Since `iloc` is part of the dataframe, we refer to it as `colors.iloc`; we then give the index we want:"
   ]
  },
  {
   "cell_type": "code",
   "execution_count": 8,
   "id": "eeba006d-a9a2-43b5-8a12-33e345c63c6e",
   "metadata": {},
   "outputs": [
    {
     "data": {
      "text/plain": [
       "name     black\n",
       "red        0.0\n",
       "green      0.0\n",
       "blue       0.0\n",
       "Name: 0, dtype: object"
      ]
     },
     "execution_count": 8,
     "metadata": {},
     "output_type": "execute_result"
    }
   ],
   "source": [
    "colors.iloc[0]"
   ]
  },
  {
   "cell_type": "markdown",
   "id": "2f1cdc42-28fa-4024-a803-33ce30e0b0cb",
   "metadata": {},
   "source": [
    "The line at the bottom tells us that we have the row named `0`, and that its datatype (or `dtype`) is \"object\". You can safely ignore this for now.\n",
    "\n",
    "What if we want multiple rows? We can select using a *range* like this:"
   ]
  },
  {
   "cell_type": "code",
   "execution_count": 9,
   "id": "4fa1f172-f0d3-459c-a796-a5b48d05e172",
   "metadata": {},
   "outputs": [
    {
     "data": {
      "text/html": [
       "<div>\n",
       "<style scoped>\n",
       "    .dataframe tbody tr th:only-of-type {\n",
       "        vertical-align: middle;\n",
       "    }\n",
       "\n",
       "    .dataframe tbody tr th {\n",
       "        vertical-align: top;\n",
       "    }\n",
       "\n",
       "    .dataframe thead th {\n",
       "        text-align: right;\n",
       "    }\n",
       "</style>\n",
       "<table border=\"1\" class=\"dataframe\">\n",
       "  <thead>\n",
       "    <tr style=\"text-align: right;\">\n",
       "      <th></th>\n",
       "      <th>name</th>\n",
       "      <th>red</th>\n",
       "      <th>green</th>\n",
       "      <th>blue</th>\n",
       "    </tr>\n",
       "  </thead>\n",
       "  <tbody>\n",
       "    <tr>\n",
       "      <th>0</th>\n",
       "      <td>black</td>\n",
       "      <td>0.0</td>\n",
       "      <td>0.0</td>\n",
       "      <td>0.0</td>\n",
       "    </tr>\n",
       "    <tr>\n",
       "      <th>1</th>\n",
       "      <td>blue</td>\n",
       "      <td>0.0</td>\n",
       "      <td>0.0</td>\n",
       "      <td>1.0</td>\n",
       "    </tr>\n",
       "    <tr>\n",
       "      <th>2</th>\n",
       "      <td>cyan</td>\n",
       "      <td>0.0</td>\n",
       "      <td>1.0</td>\n",
       "      <td>1.0</td>\n",
       "    </tr>\n",
       "    <tr>\n",
       "      <th>3</th>\n",
       "      <td>gray</td>\n",
       "      <td>0.5</td>\n",
       "      <td>0.5</td>\n",
       "      <td>0.5</td>\n",
       "    </tr>\n",
       "  </tbody>\n",
       "</table>\n",
       "</div>"
      ],
      "text/plain": [
       "    name  red  green  blue\n",
       "0  black  0.0    0.0   0.0\n",
       "1   blue  0.0    0.0   1.0\n",
       "2   cyan  0.0    1.0   1.0\n",
       "3   gray  0.5    0.5   0.5"
      ]
     },
     "execution_count": 9,
     "metadata": {},
     "output_type": "execute_result"
    }
   ],
   "source": [
    "colors.iloc[0:4]"
   ]
  },
  {
   "cell_type": "markdown",
   "id": "7561137e-bacd-417e-a3af-506546a12062",
   "metadata": {},
   "source": [
    "And once again, if we give a list row numbers, we can select any rows we want (including duplicates):"
   ]
  },
  {
   "cell_type": "code",
   "execution_count": 10,
   "id": "8c394145-9a2e-48f9-8775-e61acddf6bc4",
   "metadata": {},
   "outputs": [
    {
     "data": {
      "text/html": [
       "<div>\n",
       "<style scoped>\n",
       "    .dataframe tbody tr th:only-of-type {\n",
       "        vertical-align: middle;\n",
       "    }\n",
       "\n",
       "    .dataframe tbody tr th {\n",
       "        vertical-align: top;\n",
       "    }\n",
       "\n",
       "    .dataframe thead th {\n",
       "        text-align: right;\n",
       "    }\n",
       "</style>\n",
       "<table border=\"1\" class=\"dataframe\">\n",
       "  <thead>\n",
       "    <tr style=\"text-align: right;\">\n",
       "      <th></th>\n",
       "      <th>name</th>\n",
       "      <th>red</th>\n",
       "      <th>green</th>\n",
       "      <th>blue</th>\n",
       "    </tr>\n",
       "  </thead>\n",
       "  <tbody>\n",
       "    <tr>\n",
       "      <th>1</th>\n",
       "      <td>blue</td>\n",
       "      <td>0.0</td>\n",
       "      <td>0.0</td>\n",
       "      <td>1.0</td>\n",
       "    </tr>\n",
       "    <tr>\n",
       "      <th>3</th>\n",
       "      <td>gray</td>\n",
       "      <td>0.5</td>\n",
       "      <td>0.5</td>\n",
       "      <td>0.5</td>\n",
       "    </tr>\n",
       "    <tr>\n",
       "      <th>3</th>\n",
       "      <td>gray</td>\n",
       "      <td>0.5</td>\n",
       "      <td>0.5</td>\n",
       "      <td>0.5</td>\n",
       "    </tr>\n",
       "    <tr>\n",
       "      <th>5</th>\n",
       "      <td>lime</td>\n",
       "      <td>0.0</td>\n",
       "      <td>1.0</td>\n",
       "      <td>0.0</td>\n",
       "    </tr>\n",
       "  </tbody>\n",
       "</table>\n",
       "</div>"
      ],
      "text/plain": [
       "   name  red  green  blue\n",
       "1  blue  0.0    0.0   1.0\n",
       "3  gray  0.5    0.5   0.5\n",
       "3  gray  0.5    0.5   0.5\n",
       "5  lime  0.0    1.0   0.0"
      ]
     },
     "execution_count": 10,
     "metadata": {},
     "output_type": "execute_result"
    }
   ],
   "source": [
    "colors.iloc[[1, 3, 3, 5]]"
   ]
  },
  {
   "cell_type": "markdown",
   "id": "0e3b02fe-5d69-4066-9b78-0ef3da8052c8",
   "metadata": {},
   "source": [
    "We can combine indexing expressions to select columns and rows in a single line. Reading from left to right, the code below says, \"From the dataframe `colors`, select the two rows called `\"red\"` and `\"blue\"`, and from that subtable select the rows 0, 1, 2, 3\":"
   ]
  },
  {
   "cell_type": "code",
   "execution_count": 11,
   "id": "13b1093d-4f5f-476e-a4b3-9fbb84bf0bc0",
   "metadata": {},
   "outputs": [
    {
     "data": {
      "text/html": [
       "<div>\n",
       "<style scoped>\n",
       "    .dataframe tbody tr th:only-of-type {\n",
       "        vertical-align: middle;\n",
       "    }\n",
       "\n",
       "    .dataframe tbody tr th {\n",
       "        vertical-align: top;\n",
       "    }\n",
       "\n",
       "    .dataframe thead th {\n",
       "        text-align: right;\n",
       "    }\n",
       "</style>\n",
       "<table border=\"1\" class=\"dataframe\">\n",
       "  <thead>\n",
       "    <tr style=\"text-align: right;\">\n",
       "      <th></th>\n",
       "      <th>red</th>\n",
       "      <th>blue</th>\n",
       "    </tr>\n",
       "  </thead>\n",
       "  <tbody>\n",
       "    <tr>\n",
       "      <th>0</th>\n",
       "      <td>0.0</td>\n",
       "      <td>0.0</td>\n",
       "    </tr>\n",
       "    <tr>\n",
       "      <th>1</th>\n",
       "      <td>0.0</td>\n",
       "      <td>1.0</td>\n",
       "    </tr>\n",
       "    <tr>\n",
       "      <th>2</th>\n",
       "      <td>0.0</td>\n",
       "      <td>1.0</td>\n",
       "    </tr>\n",
       "    <tr>\n",
       "      <th>3</th>\n",
       "      <td>0.5</td>\n",
       "      <td>0.5</td>\n",
       "    </tr>\n",
       "  </tbody>\n",
       "</table>\n",
       "</div>"
      ],
      "text/plain": [
       "   red  blue\n",
       "0  0.0   0.0\n",
       "1  0.0   1.0\n",
       "2  0.0   1.0\n",
       "3  0.5   0.5"
      ]
     },
     "execution_count": 11,
     "metadata": {},
     "output_type": "execute_result"
    }
   ],
   "source": [
    "colors[[\"red\", \"blue\"]].iloc[0:4]"
   ]
  },
  {
   "cell_type": "markdown",
   "id": "3ed25e60-3367-4755-881d-8d5902ceb0cc",
   "metadata": {},
   "source": [
    "Sometimes we don't want to select rows by location, but by value: for example, we might want all the colors that have no red in them. To see how we do this, let's use `==` (which tests for equality) to see which rows pass the test \"no red\":"
   ]
  },
  {
   "cell_type": "code",
   "execution_count": 12,
   "id": "534d104d-1908-4386-8a0d-ce2a11439f6a",
   "metadata": {},
   "outputs": [
    {
     "data": {
      "text/plain": [
       "0      True\n",
       "1      True\n",
       "2      True\n",
       "3     False\n",
       "4      True\n",
       "5      True\n",
       "6     False\n",
       "7     False\n",
       "8      True\n",
       "9     False\n",
       "10    False\n",
       "11    False\n",
       "12     True\n",
       "13    False\n",
       "14    False\n",
       "Name: red, dtype: bool"
      ]
     },
     "execution_count": 12,
     "metadata": {},
     "output_type": "execute_result"
    }
   ],
   "source": [
    "colors[\"red\"] == 0.0"
   ]
  },
  {
   "cell_type": "markdown",
   "id": "dd8d8d8f-0f87-4811-9be5-2faa5d45a226",
   "metadata": {},
   "source": [
    "And of course, we can assign the result of our check to a temporary variable:"
   ]
  },
  {
   "cell_type": "code",
   "execution_count": 13,
   "id": "e9c8b1a8-2289-4904-8acc-8c3457268512",
   "metadata": {},
   "outputs": [
    {
     "data": {
      "text/plain": [
       "0      True\n",
       "1      True\n",
       "2      True\n",
       "3     False\n",
       "4      True\n",
       "5      True\n",
       "6     False\n",
       "7     False\n",
       "8      True\n",
       "9     False\n",
       "10    False\n",
       "11    False\n",
       "12     True\n",
       "13    False\n",
       "14    False\n",
       "Name: red, dtype: bool"
      ]
     },
     "execution_count": 13,
     "metadata": {},
     "output_type": "execute_result"
    }
   ],
   "source": [
    "temp = (colors[\"red\"] == 0.0)\n",
    "temp"
   ]
  },
  {
   "cell_type": "markdown",
   "id": "3e2b1cc2-0e77-430d-97ba-7cc9428b6dd7",
   "metadata": {},
   "source": [
    "Now, if we use that temporary variable as an index with the property `loc` (for \"location\" - note that it's *not* `iloc` but just `loc`), Pandas will select only the rows corresponding to `True`:"
   ]
  },
  {
   "cell_type": "code",
   "execution_count": 14,
   "id": "863189cc-cfcb-4b65-ba0d-319e55d603c8",
   "metadata": {},
   "outputs": [
    {
     "data": {
      "text/html": [
       "<div>\n",
       "<style scoped>\n",
       "    .dataframe tbody tr th:only-of-type {\n",
       "        vertical-align: middle;\n",
       "    }\n",
       "\n",
       "    .dataframe tbody tr th {\n",
       "        vertical-align: top;\n",
       "    }\n",
       "\n",
       "    .dataframe thead th {\n",
       "        text-align: right;\n",
       "    }\n",
       "</style>\n",
       "<table border=\"1\" class=\"dataframe\">\n",
       "  <thead>\n",
       "    <tr style=\"text-align: right;\">\n",
       "      <th></th>\n",
       "      <th>name</th>\n",
       "      <th>red</th>\n",
       "      <th>green</th>\n",
       "      <th>blue</th>\n",
       "    </tr>\n",
       "  </thead>\n",
       "  <tbody>\n",
       "    <tr>\n",
       "      <th>0</th>\n",
       "      <td>black</td>\n",
       "      <td>0.0</td>\n",
       "      <td>0.0</td>\n",
       "      <td>0.0</td>\n",
       "    </tr>\n",
       "    <tr>\n",
       "      <th>1</th>\n",
       "      <td>blue</td>\n",
       "      <td>0.0</td>\n",
       "      <td>0.0</td>\n",
       "      <td>1.0</td>\n",
       "    </tr>\n",
       "    <tr>\n",
       "      <th>2</th>\n",
       "      <td>cyan</td>\n",
       "      <td>0.0</td>\n",
       "      <td>1.0</td>\n",
       "      <td>1.0</td>\n",
       "    </tr>\n",
       "    <tr>\n",
       "      <th>4</th>\n",
       "      <td>green</td>\n",
       "      <td>0.0</td>\n",
       "      <td>0.5</td>\n",
       "      <td>0.0</td>\n",
       "    </tr>\n",
       "    <tr>\n",
       "      <th>5</th>\n",
       "      <td>lime</td>\n",
       "      <td>0.0</td>\n",
       "      <td>1.0</td>\n",
       "      <td>0.0</td>\n",
       "    </tr>\n",
       "    <tr>\n",
       "      <th>8</th>\n",
       "      <td>navy</td>\n",
       "      <td>0.0</td>\n",
       "      <td>0.0</td>\n",
       "      <td>0.5</td>\n",
       "    </tr>\n",
       "    <tr>\n",
       "      <th>12</th>\n",
       "      <td>teal</td>\n",
       "      <td>0.0</td>\n",
       "      <td>0.5</td>\n",
       "      <td>0.5</td>\n",
       "    </tr>\n",
       "  </tbody>\n",
       "</table>\n",
       "</div>"
      ],
      "text/plain": [
       "     name  red  green  blue\n",
       "0   black  0.0    0.0   0.0\n",
       "1    blue  0.0    0.0   1.0\n",
       "2    cyan  0.0    1.0   1.0\n",
       "4   green  0.0    0.5   0.0\n",
       "5    lime  0.0    1.0   0.0\n",
       "8    navy  0.0    0.0   0.5\n",
       "12   teal  0.0    0.5   0.5"
      ]
     },
     "execution_count": 14,
     "metadata": {},
     "output_type": "execute_result"
    }
   ],
   "source": [
    "colors.loc[temp]"
   ]
  },
  {
   "cell_type": "markdown",
   "id": "0d5080f2-50ed-4d0d-b821-906c214e7623",
   "metadata": {},
   "source": [
    "We don't have to use a temporary variable: we can put the expression that selects the rows we want directly into `colors.loc[...]` like this:"
   ]
  },
  {
   "cell_type": "code",
   "execution_count": 15,
   "id": "89d8a56b-15b8-46fe-8950-166bb6f63551",
   "metadata": {},
   "outputs": [
    {
     "data": {
      "text/html": [
       "<div>\n",
       "<style scoped>\n",
       "    .dataframe tbody tr th:only-of-type {\n",
       "        vertical-align: middle;\n",
       "    }\n",
       "\n",
       "    .dataframe tbody tr th {\n",
       "        vertical-align: top;\n",
       "    }\n",
       "\n",
       "    .dataframe thead th {\n",
       "        text-align: right;\n",
       "    }\n",
       "</style>\n",
       "<table border=\"1\" class=\"dataframe\">\n",
       "  <thead>\n",
       "    <tr style=\"text-align: right;\">\n",
       "      <th></th>\n",
       "      <th>name</th>\n",
       "      <th>red</th>\n",
       "      <th>green</th>\n",
       "      <th>blue</th>\n",
       "    </tr>\n",
       "  </thead>\n",
       "  <tbody>\n",
       "    <tr>\n",
       "      <th>0</th>\n",
       "      <td>black</td>\n",
       "      <td>0.0</td>\n",
       "      <td>0.0</td>\n",
       "      <td>0.0</td>\n",
       "    </tr>\n",
       "    <tr>\n",
       "      <th>1</th>\n",
       "      <td>blue</td>\n",
       "      <td>0.0</td>\n",
       "      <td>0.0</td>\n",
       "      <td>1.0</td>\n",
       "    </tr>\n",
       "    <tr>\n",
       "      <th>2</th>\n",
       "      <td>cyan</td>\n",
       "      <td>0.0</td>\n",
       "      <td>1.0</td>\n",
       "      <td>1.0</td>\n",
       "    </tr>\n",
       "    <tr>\n",
       "      <th>4</th>\n",
       "      <td>green</td>\n",
       "      <td>0.0</td>\n",
       "      <td>0.5</td>\n",
       "      <td>0.0</td>\n",
       "    </tr>\n",
       "    <tr>\n",
       "      <th>5</th>\n",
       "      <td>lime</td>\n",
       "      <td>0.0</td>\n",
       "      <td>1.0</td>\n",
       "      <td>0.0</td>\n",
       "    </tr>\n",
       "    <tr>\n",
       "      <th>8</th>\n",
       "      <td>navy</td>\n",
       "      <td>0.0</td>\n",
       "      <td>0.0</td>\n",
       "      <td>0.5</td>\n",
       "    </tr>\n",
       "    <tr>\n",
       "      <th>12</th>\n",
       "      <td>teal</td>\n",
       "      <td>0.0</td>\n",
       "      <td>0.5</td>\n",
       "      <td>0.5</td>\n",
       "    </tr>\n",
       "  </tbody>\n",
       "</table>\n",
       "</div>"
      ],
      "text/plain": [
       "     name  red  green  blue\n",
       "0   black  0.0    0.0   0.0\n",
       "1    blue  0.0    0.0   1.0\n",
       "2    cyan  0.0    1.0   1.0\n",
       "4   green  0.0    0.5   0.0\n",
       "5    lime  0.0    1.0   0.0\n",
       "8    navy  0.0    0.0   0.5\n",
       "12   teal  0.0    0.5   0.5"
      ]
     },
     "execution_count": 15,
     "metadata": {},
     "output_type": "execute_result"
    }
   ],
   "source": [
    "colors.loc[colors[\"red\"] == 0.0]"
   ]
  },
  {
   "cell_type": "markdown",
   "id": "58f7b752-0b30-4a34-b707-66ea39132980",
   "metadata": {},
   "source": [
    "So here's a complicated expression:\n",
    "- from the dataframe `colors`\n",
    "- select the rows that have more blue than green\n",
    "- and then select the red column and show that"
   ]
  },
  {
   "cell_type": "code",
   "execution_count": 16,
   "id": "94bb55cf-96a3-4777-a5f0-b40ab000b6d3",
   "metadata": {},
   "outputs": [
    {
     "data": {
      "text/plain": [
       "1     0.0\n",
       "6     1.0\n",
       "8     0.0\n",
       "10    0.5\n",
       "Name: red, dtype: float64"
      ]
     },
     "execution_count": 16,
     "metadata": {},
     "output_type": "execute_result"
    }
   ],
   "source": [
    "colors.loc[colors[\"blue\"] > colors[\"green\"]][\"red\"]"
   ]
  },
  {
   "cell_type": "markdown",
   "id": "cb45a039-c4b0-4ad1-9528-96c7eae80823",
   "metadata": {},
   "source": [
    "Finally, every dataframe has a function called `agg` that *aggregates* values. For example, let's find the maximum value in each column:"
   ]
  },
  {
   "cell_type": "code",
   "execution_count": 17,
   "id": "33425603-3bf3-46b4-b3b1-b6c3dc8aedc3",
   "metadata": {},
   "outputs": [
    {
     "data": {
      "text/plain": [
       "name     yellow\n",
       "red         1.0\n",
       "green       1.0\n",
       "blue        1.0\n",
       "dtype: object"
      ]
     },
     "execution_count": 17,
     "metadata": {},
     "output_type": "execute_result"
    }
   ],
   "source": [
    "colors.agg(\"max\")"
   ]
  },
  {
   "cell_type": "markdown",
   "id": "727e72ad-7638-4f4d-b580-65e09c945cc2",
   "metadata": {},
   "source": [
    "This *does not* mean there is a color called `yellow` with red, green, and blue set to 1. Instead, it means that the maximum value in the `name` column is \"yellow\" (i.e., that's the last string in dictionary order), and that the maximum values in the red, green, and blue columns are all 1.\n",
    "\n",
    "We can calculate multiple aggregates at once, and only for columns of interest:"
   ]
  },
  {
   "cell_type": "code",
   "execution_count": 18,
   "id": "a74d43a9-299c-4f36-9e6e-b61aaf218fd0",
   "metadata": {},
   "outputs": [
    {
     "data": {
      "text/plain": [
       "min     0.0\n",
       "mean    0.4\n",
       "max     1.0\n",
       "Name: red, dtype: float64"
      ]
     },
     "execution_count": 18,
     "metadata": {},
     "output_type": "execute_result"
    }
   ],
   "source": [
    "colors[\"red\"].agg([\"min\", \"mean\", \"max\"])"
   ]
  },
  {
   "cell_type": "markdown",
   "id": "623b8819-2fa8-40cf-911b-a29fd11d27cb",
   "metadata": {},
   "source": [
    "But look what happens when we try to calculate the sum:"
   ]
  },
  {
   "cell_type": "code",
   "execution_count": 19,
   "id": "041a12e1-7cc1-4d6b-b642-05dd81001952",
   "metadata": {},
   "outputs": [
    {
     "data": {
      "text/plain": [
       "name     blackbluecyangraygreenlimemagentamaroonnavyoli...\n",
       "red                                                    6.0\n",
       "green                                                  6.0\n",
       "blue                                                   6.5\n",
       "dtype: object"
      ]
     },
     "execution_count": 19,
     "metadata": {},
     "output_type": "execute_result"
    }
   ],
   "source": [
    "colors.agg(\"sum\")"
   ]
  },
  {
   "cell_type": "markdown",
   "id": "a8cc88ac-50cd-49d2-ad97-bc6ee18ae3c6",
   "metadata": {},
   "source": [
    "The values for the color columns make sense; what's happening with `name`? Well, if `\"hello\" + \"there\"` is `\"hellothere\"`, then the \"sum\" of all the color names is the concatenation of those names. This is silly, but not harmful. What *is* harmful is trying to calculate the mean of a bunch of text strings:"
   ]
  },
  {
   "cell_type": "code",
   "execution_count": 20,
   "id": "2789531a-c755-4a29-a1cb-3a94d9188538",
   "metadata": {},
   "outputs": [
    {
     "name": "stderr",
     "output_type": "stream",
     "text": [
      "/var/folders/km/0m_jwvn111l2d5vsw_tz3dlr0000gn/T/ipykernel_534/1577097199.py:1: FutureWarning: The default value of numeric_only in DataFrame.mean is deprecated. In a future version, it will default to False. In addition, specifying 'numeric_only=None' is deprecated. Select only valid columns or specify the value of numeric_only to silence this warning.\n",
      "  colors.agg(\"mean\")\n"
     ]
    },
    {
     "data": {
      "text/plain": [
       "red      0.400000\n",
       "green    0.400000\n",
       "blue     0.433333\n",
       "dtype: float64"
      ]
     },
     "execution_count": 20,
     "metadata": {},
     "output_type": "execute_result"
    }
   ],
   "source": [
    "colors.agg(\"mean\")"
   ]
  },
  {
   "cell_type": "markdown",
   "id": "8f74997a-32fb-49e9-886b-bc8da964f197",
   "metadata": {},
   "source": [
    "Pandas gives us a warning, then does the calculation for those columns where it makes sense. Please do *not* disable these warnings: you can, but sooner or later, turning off the alarm will cause you grief."
   ]
  },
  {
   "cell_type": "markdown",
   "id": "cd5e8bc0-ed56-4625-bc1a-4a695f34aa49",
   "metadata": {},
   "source": [
    "## Homework\n",
    "\n",
    "Write an expression that selects rows 3-6 inclusive from `colors`:"
   ]
  },
  {
   "cell_type": "code",
   "execution_count": 23,
   "id": "ae7bdc39-278c-45b1-a357-d6b8c533438d",
   "metadata": {},
   "outputs": [
    {
     "data": {
      "text/html": [
       "<div>\n",
       "<style scoped>\n",
       "    .dataframe tbody tr th:only-of-type {\n",
       "        vertical-align: middle;\n",
       "    }\n",
       "\n",
       "    .dataframe tbody tr th {\n",
       "        vertical-align: top;\n",
       "    }\n",
       "\n",
       "    .dataframe thead th {\n",
       "        text-align: right;\n",
       "    }\n",
       "</style>\n",
       "<table border=\"1\" class=\"dataframe\">\n",
       "  <thead>\n",
       "    <tr style=\"text-align: right;\">\n",
       "      <th></th>\n",
       "      <th>name</th>\n",
       "      <th>red</th>\n",
       "      <th>green</th>\n",
       "      <th>blue</th>\n",
       "    </tr>\n",
       "  </thead>\n",
       "  <tbody>\n",
       "    <tr>\n",
       "      <th>0</th>\n",
       "      <td>black</td>\n",
       "      <td>0.0</td>\n",
       "      <td>0.0</td>\n",
       "      <td>0.0</td>\n",
       "    </tr>\n",
       "    <tr>\n",
       "      <th>1</th>\n",
       "      <td>blue</td>\n",
       "      <td>0.0</td>\n",
       "      <td>0.0</td>\n",
       "      <td>1.0</td>\n",
       "    </tr>\n",
       "    <tr>\n",
       "      <th>2</th>\n",
       "      <td>cyan</td>\n",
       "      <td>0.0</td>\n",
       "      <td>1.0</td>\n",
       "      <td>1.0</td>\n",
       "    </tr>\n",
       "    <tr>\n",
       "      <th>3</th>\n",
       "      <td>gray</td>\n",
       "      <td>0.5</td>\n",
       "      <td>0.5</td>\n",
       "      <td>0.5</td>\n",
       "    </tr>\n",
       "    <tr>\n",
       "      <th>4</th>\n",
       "      <td>green</td>\n",
       "      <td>0.0</td>\n",
       "      <td>0.5</td>\n",
       "      <td>0.0</td>\n",
       "    </tr>\n",
       "    <tr>\n",
       "      <th>5</th>\n",
       "      <td>lime</td>\n",
       "      <td>0.0</td>\n",
       "      <td>1.0</td>\n",
       "      <td>0.0</td>\n",
       "    </tr>\n",
       "    <tr>\n",
       "      <th>6</th>\n",
       "      <td>magenta</td>\n",
       "      <td>1.0</td>\n",
       "      <td>0.0</td>\n",
       "      <td>1.0</td>\n",
       "    </tr>\n",
       "    <tr>\n",
       "      <th>7</th>\n",
       "      <td>maroon</td>\n",
       "      <td>0.5</td>\n",
       "      <td>0.0</td>\n",
       "      <td>0.0</td>\n",
       "    </tr>\n",
       "    <tr>\n",
       "      <th>8</th>\n",
       "      <td>navy</td>\n",
       "      <td>0.0</td>\n",
       "      <td>0.0</td>\n",
       "      <td>0.5</td>\n",
       "    </tr>\n",
       "    <tr>\n",
       "      <th>9</th>\n",
       "      <td>olive</td>\n",
       "      <td>0.5</td>\n",
       "      <td>0.5</td>\n",
       "      <td>0.0</td>\n",
       "    </tr>\n",
       "    <tr>\n",
       "      <th>10</th>\n",
       "      <td>purple</td>\n",
       "      <td>0.5</td>\n",
       "      <td>0.0</td>\n",
       "      <td>0.5</td>\n",
       "    </tr>\n",
       "    <tr>\n",
       "      <th>11</th>\n",
       "      <td>red</td>\n",
       "      <td>1.0</td>\n",
       "      <td>0.0</td>\n",
       "      <td>0.0</td>\n",
       "    </tr>\n",
       "    <tr>\n",
       "      <th>12</th>\n",
       "      <td>teal</td>\n",
       "      <td>0.0</td>\n",
       "      <td>0.5</td>\n",
       "      <td>0.5</td>\n",
       "    </tr>\n",
       "    <tr>\n",
       "      <th>13</th>\n",
       "      <td>yellow</td>\n",
       "      <td>1.0</td>\n",
       "      <td>1.0</td>\n",
       "      <td>0.5</td>\n",
       "    </tr>\n",
       "    <tr>\n",
       "      <th>14</th>\n",
       "      <td>white</td>\n",
       "      <td>1.0</td>\n",
       "      <td>1.0</td>\n",
       "      <td>1.0</td>\n",
       "    </tr>\n",
       "  </tbody>\n",
       "</table>\n",
       "</div>"
      ],
      "text/plain": [
       "       name  red  green  blue\n",
       "0     black  0.0    0.0   0.0\n",
       "1      blue  0.0    0.0   1.0\n",
       "2      cyan  0.0    1.0   1.0\n",
       "3      gray  0.5    0.5   0.5\n",
       "4     green  0.0    0.5   0.0\n",
       "5      lime  0.0    1.0   0.0\n",
       "6   magenta  1.0    0.0   1.0\n",
       "7    maroon  0.5    0.0   0.0\n",
       "8      navy  0.0    0.0   0.5\n",
       "9     olive  0.5    0.5   0.0\n",
       "10   purple  0.5    0.0   0.5\n",
       "11      red  1.0    0.0   0.0\n",
       "12     teal  0.0    0.5   0.5\n",
       "13   yellow  1.0    1.0   0.5\n",
       "14    white  1.0    1.0   1.0"
      ]
     },
     "execution_count": 23,
     "metadata": {},
     "output_type": "execute_result"
    }
   ],
   "source": [
    "colors"
   ]
  },
  {
   "cell_type": "code",
   "execution_count": 22,
   "id": "df5c4251-8e8b-44f3-80f7-a12a2799cfa3",
   "metadata": {},
   "outputs": [
    {
     "data": {
      "text/html": [
       "<div>\n",
       "<style scoped>\n",
       "    .dataframe tbody tr th:only-of-type {\n",
       "        vertical-align: middle;\n",
       "    }\n",
       "\n",
       "    .dataframe tbody tr th {\n",
       "        vertical-align: top;\n",
       "    }\n",
       "\n",
       "    .dataframe thead th {\n",
       "        text-align: right;\n",
       "    }\n",
       "</style>\n",
       "<table border=\"1\" class=\"dataframe\">\n",
       "  <thead>\n",
       "    <tr style=\"text-align: right;\">\n",
       "      <th></th>\n",
       "      <th>name</th>\n",
       "      <th>red</th>\n",
       "      <th>green</th>\n",
       "      <th>blue</th>\n",
       "    </tr>\n",
       "  </thead>\n",
       "  <tbody>\n",
       "    <tr>\n",
       "      <th>2</th>\n",
       "      <td>cyan</td>\n",
       "      <td>0.0</td>\n",
       "      <td>1.0</td>\n",
       "      <td>1.0</td>\n",
       "    </tr>\n",
       "    <tr>\n",
       "      <th>3</th>\n",
       "      <td>gray</td>\n",
       "      <td>0.5</td>\n",
       "      <td>0.5</td>\n",
       "      <td>0.5</td>\n",
       "    </tr>\n",
       "    <tr>\n",
       "      <th>4</th>\n",
       "      <td>green</td>\n",
       "      <td>0.0</td>\n",
       "      <td>0.5</td>\n",
       "      <td>0.0</td>\n",
       "    </tr>\n",
       "    <tr>\n",
       "      <th>5</th>\n",
       "      <td>lime</td>\n",
       "      <td>0.0</td>\n",
       "      <td>1.0</td>\n",
       "      <td>0.0</td>\n",
       "    </tr>\n",
       "  </tbody>\n",
       "</table>\n",
       "</div>"
      ],
      "text/plain": [
       "    name  red  green  blue\n",
       "2   cyan  0.0    1.0   1.0\n",
       "3   gray  0.5    0.5   0.5\n",
       "4  green  0.0    0.5   0.0\n",
       "5   lime  0.0    1.0   0.0"
      ]
     },
     "execution_count": 22,
     "metadata": {},
     "output_type": "execute_result"
    }
   ],
   "source": [
    "colors.iloc[2:6]"
   ]
  },
  {
   "cell_type": "markdown",
   "id": "6265bd2d-b48d-4a13-aeb0-bbe38761b626",
   "metadata": {},
   "source": [
    "Write an expression that selects the blue and green columns *in that order* from `colors`:"
   ]
  },
  {
   "cell_type": "code",
   "execution_count": 27,
   "id": "0ca67924-eac6-41ac-aebc-d5c7957f7fb2",
   "metadata": {},
   "outputs": [
    {
     "data": {
      "text/html": [
       "<div>\n",
       "<style scoped>\n",
       "    .dataframe tbody tr th:only-of-type {\n",
       "        vertical-align: middle;\n",
       "    }\n",
       "\n",
       "    .dataframe tbody tr th {\n",
       "        vertical-align: top;\n",
       "    }\n",
       "\n",
       "    .dataframe thead th {\n",
       "        text-align: right;\n",
       "    }\n",
       "</style>\n",
       "<table border=\"1\" class=\"dataframe\">\n",
       "  <thead>\n",
       "    <tr style=\"text-align: right;\">\n",
       "      <th></th>\n",
       "      <th>blue</th>\n",
       "      <th>green</th>\n",
       "    </tr>\n",
       "  </thead>\n",
       "  <tbody>\n",
       "    <tr>\n",
       "      <th>0</th>\n",
       "      <td>0.0</td>\n",
       "      <td>0.0</td>\n",
       "    </tr>\n",
       "    <tr>\n",
       "      <th>1</th>\n",
       "      <td>1.0</td>\n",
       "      <td>0.0</td>\n",
       "    </tr>\n",
       "    <tr>\n",
       "      <th>2</th>\n",
       "      <td>1.0</td>\n",
       "      <td>1.0</td>\n",
       "    </tr>\n",
       "    <tr>\n",
       "      <th>3</th>\n",
       "      <td>0.5</td>\n",
       "      <td>0.5</td>\n",
       "    </tr>\n",
       "    <tr>\n",
       "      <th>4</th>\n",
       "      <td>0.0</td>\n",
       "      <td>0.5</td>\n",
       "    </tr>\n",
       "    <tr>\n",
       "      <th>5</th>\n",
       "      <td>0.0</td>\n",
       "      <td>1.0</td>\n",
       "    </tr>\n",
       "    <tr>\n",
       "      <th>6</th>\n",
       "      <td>1.0</td>\n",
       "      <td>0.0</td>\n",
       "    </tr>\n",
       "    <tr>\n",
       "      <th>7</th>\n",
       "      <td>0.0</td>\n",
       "      <td>0.0</td>\n",
       "    </tr>\n",
       "    <tr>\n",
       "      <th>8</th>\n",
       "      <td>0.5</td>\n",
       "      <td>0.0</td>\n",
       "    </tr>\n",
       "    <tr>\n",
       "      <th>9</th>\n",
       "      <td>0.0</td>\n",
       "      <td>0.5</td>\n",
       "    </tr>\n",
       "    <tr>\n",
       "      <th>10</th>\n",
       "      <td>0.5</td>\n",
       "      <td>0.0</td>\n",
       "    </tr>\n",
       "    <tr>\n",
       "      <th>11</th>\n",
       "      <td>0.0</td>\n",
       "      <td>0.0</td>\n",
       "    </tr>\n",
       "    <tr>\n",
       "      <th>12</th>\n",
       "      <td>0.5</td>\n",
       "      <td>0.5</td>\n",
       "    </tr>\n",
       "    <tr>\n",
       "      <th>13</th>\n",
       "      <td>0.5</td>\n",
       "      <td>1.0</td>\n",
       "    </tr>\n",
       "    <tr>\n",
       "      <th>14</th>\n",
       "      <td>1.0</td>\n",
       "      <td>1.0</td>\n",
       "    </tr>\n",
       "  </tbody>\n",
       "</table>\n",
       "</div>"
      ],
      "text/plain": [
       "    blue  green\n",
       "0    0.0    0.0\n",
       "1    1.0    0.0\n",
       "2    1.0    1.0\n",
       "3    0.5    0.5\n",
       "4    0.0    0.5\n",
       "5    0.0    1.0\n",
       "6    1.0    0.0\n",
       "7    0.0    0.0\n",
       "8    0.5    0.0\n",
       "9    0.0    0.5\n",
       "10   0.5    0.0\n",
       "11   0.0    0.0\n",
       "12   0.5    0.5\n",
       "13   0.5    1.0\n",
       "14   1.0    1.0"
      ]
     },
     "execution_count": 27,
     "metadata": {},
     "output_type": "execute_result"
    }
   ],
   "source": [
    "colors[[\"blue\", \"green\"]]"
   ]
  },
  {
   "cell_type": "markdown",
   "id": "fa2d31e8-974d-4bf9-bcae-cd15dee7cb51",
   "metadata": {},
   "source": [
    "Write an expression that calculates the average red value of all the colors:"
   ]
  },
  {
   "cell_type": "code",
   "execution_count": 30,
   "id": "b099c9eb-e16f-4dbe-bc8b-2fb743ae040b",
   "metadata": {},
   "outputs": [
    {
     "data": {
      "text/plain": [
       "0.4"
      ]
     },
     "execution_count": 30,
     "metadata": {},
     "output_type": "execute_result"
    }
   ],
   "source": [
    "colors[\"red\"].agg(\"mean\")"
   ]
  },
  {
   "cell_type": "markdown",
   "id": "d5336028-000f-4b58-ab66-93a7fe8077e7",
   "metadata": {},
   "source": [
    "Write an expression that selects the rows with more red than average. (It's OK to use a temporary variable to make your code more readable.)"
   ]
  },
  {
   "cell_type": "code",
   "execution_count": 33,
   "id": "1e383f9e-76ec-4475-8ca5-3f1c16c60f7e",
   "metadata": {
    "tags": []
   },
   "outputs": [
    {
     "data": {
      "text/html": [
       "<div>\n",
       "<style scoped>\n",
       "    .dataframe tbody tr th:only-of-type {\n",
       "        vertical-align: middle;\n",
       "    }\n",
       "\n",
       "    .dataframe tbody tr th {\n",
       "        vertical-align: top;\n",
       "    }\n",
       "\n",
       "    .dataframe thead th {\n",
       "        text-align: right;\n",
       "    }\n",
       "</style>\n",
       "<table border=\"1\" class=\"dataframe\">\n",
       "  <thead>\n",
       "    <tr style=\"text-align: right;\">\n",
       "      <th></th>\n",
       "      <th>name</th>\n",
       "      <th>red</th>\n",
       "      <th>green</th>\n",
       "      <th>blue</th>\n",
       "    </tr>\n",
       "  </thead>\n",
       "  <tbody>\n",
       "    <tr>\n",
       "      <th>3</th>\n",
       "      <td>gray</td>\n",
       "      <td>0.5</td>\n",
       "      <td>0.5</td>\n",
       "      <td>0.5</td>\n",
       "    </tr>\n",
       "    <tr>\n",
       "      <th>6</th>\n",
       "      <td>magenta</td>\n",
       "      <td>1.0</td>\n",
       "      <td>0.0</td>\n",
       "      <td>1.0</td>\n",
       "    </tr>\n",
       "    <tr>\n",
       "      <th>7</th>\n",
       "      <td>maroon</td>\n",
       "      <td>0.5</td>\n",
       "      <td>0.0</td>\n",
       "      <td>0.0</td>\n",
       "    </tr>\n",
       "    <tr>\n",
       "      <th>9</th>\n",
       "      <td>olive</td>\n",
       "      <td>0.5</td>\n",
       "      <td>0.5</td>\n",
       "      <td>0.0</td>\n",
       "    </tr>\n",
       "    <tr>\n",
       "      <th>10</th>\n",
       "      <td>purple</td>\n",
       "      <td>0.5</td>\n",
       "      <td>0.0</td>\n",
       "      <td>0.5</td>\n",
       "    </tr>\n",
       "    <tr>\n",
       "      <th>11</th>\n",
       "      <td>red</td>\n",
       "      <td>1.0</td>\n",
       "      <td>0.0</td>\n",
       "      <td>0.0</td>\n",
       "    </tr>\n",
       "    <tr>\n",
       "      <th>13</th>\n",
       "      <td>yellow</td>\n",
       "      <td>1.0</td>\n",
       "      <td>1.0</td>\n",
       "      <td>0.5</td>\n",
       "    </tr>\n",
       "    <tr>\n",
       "      <th>14</th>\n",
       "      <td>white</td>\n",
       "      <td>1.0</td>\n",
       "      <td>1.0</td>\n",
       "      <td>1.0</td>\n",
       "    </tr>\n",
       "  </tbody>\n",
       "</table>\n",
       "</div>"
      ],
      "text/plain": [
       "       name  red  green  blue\n",
       "3      gray  0.5    0.5   0.5\n",
       "6   magenta  1.0    0.0   1.0\n",
       "7    maroon  0.5    0.0   0.0\n",
       "9     olive  0.5    0.5   0.0\n",
       "10   purple  0.5    0.0   0.5\n",
       "11      red  1.0    0.0   0.0\n",
       "13   yellow  1.0    1.0   0.5\n",
       "14    white  1.0    1.0   1.0"
      ]
     },
     "execution_count": 33,
     "metadata": {},
     "output_type": "execute_result"
    }
   ],
   "source": [
    "average_red = colors[\"red\"].agg(\"mean\")\n",
    "what_we_want = colors[\"red\"] > average_red\n",
    "colors.loc[what_we_want]"
   ]
  },
  {
   "cell_type": "code",
   "execution_count": 34,
   "id": "865a6fbf-f670-4d8a-9599-c21250abc83f",
   "metadata": {},
   "outputs": [
    {
     "data": {
      "text/html": [
       "<div>\n",
       "<style scoped>\n",
       "    .dataframe tbody tr th:only-of-type {\n",
       "        vertical-align: middle;\n",
       "    }\n",
       "\n",
       "    .dataframe tbody tr th {\n",
       "        vertical-align: top;\n",
       "    }\n",
       "\n",
       "    .dataframe thead th {\n",
       "        text-align: right;\n",
       "    }\n",
       "</style>\n",
       "<table border=\"1\" class=\"dataframe\">\n",
       "  <thead>\n",
       "    <tr style=\"text-align: right;\">\n",
       "      <th></th>\n",
       "      <th>name</th>\n",
       "      <th>red</th>\n",
       "      <th>green</th>\n",
       "      <th>blue</th>\n",
       "    </tr>\n",
       "  </thead>\n",
       "  <tbody>\n",
       "    <tr>\n",
       "      <th>3</th>\n",
       "      <td>gray</td>\n",
       "      <td>0.5</td>\n",
       "      <td>0.5</td>\n",
       "      <td>0.5</td>\n",
       "    </tr>\n",
       "    <tr>\n",
       "      <th>6</th>\n",
       "      <td>magenta</td>\n",
       "      <td>1.0</td>\n",
       "      <td>0.0</td>\n",
       "      <td>1.0</td>\n",
       "    </tr>\n",
       "    <tr>\n",
       "      <th>7</th>\n",
       "      <td>maroon</td>\n",
       "      <td>0.5</td>\n",
       "      <td>0.0</td>\n",
       "      <td>0.0</td>\n",
       "    </tr>\n",
       "    <tr>\n",
       "      <th>9</th>\n",
       "      <td>olive</td>\n",
       "      <td>0.5</td>\n",
       "      <td>0.5</td>\n",
       "      <td>0.0</td>\n",
       "    </tr>\n",
       "    <tr>\n",
       "      <th>10</th>\n",
       "      <td>purple</td>\n",
       "      <td>0.5</td>\n",
       "      <td>0.0</td>\n",
       "      <td>0.5</td>\n",
       "    </tr>\n",
       "    <tr>\n",
       "      <th>11</th>\n",
       "      <td>red</td>\n",
       "      <td>1.0</td>\n",
       "      <td>0.0</td>\n",
       "      <td>0.0</td>\n",
       "    </tr>\n",
       "    <tr>\n",
       "      <th>13</th>\n",
       "      <td>yellow</td>\n",
       "      <td>1.0</td>\n",
       "      <td>1.0</td>\n",
       "      <td>0.5</td>\n",
       "    </tr>\n",
       "    <tr>\n",
       "      <th>14</th>\n",
       "      <td>white</td>\n",
       "      <td>1.0</td>\n",
       "      <td>1.0</td>\n",
       "      <td>1.0</td>\n",
       "    </tr>\n",
       "  </tbody>\n",
       "</table>\n",
       "</div>"
      ],
      "text/plain": [
       "       name  red  green  blue\n",
       "3      gray  0.5    0.5   0.5\n",
       "6   magenta  1.0    0.0   1.0\n",
       "7    maroon  0.5    0.0   0.0\n",
       "9     olive  0.5    0.5   0.0\n",
       "10   purple  0.5    0.0   0.5\n",
       "11      red  1.0    0.0   0.0\n",
       "13   yellow  1.0    1.0   0.5\n",
       "14    white  1.0    1.0   1.0"
      ]
     },
     "execution_count": 34,
     "metadata": {},
     "output_type": "execute_result"
    }
   ],
   "source": [
    "colors.loc[colors[\"red\"] > colors[\"red\"].agg(\"mean\")]"
   ]
  },
  {
   "cell_type": "markdown",
   "id": "35a05348-a535-48dc-b9e2-787a5852320b",
   "metadata": {},
   "source": [
    "The function `len` tells us how many characters there are in a string, how many items there are in a list, or how many rows there are in a dataframe:"
   ]
  },
  {
   "cell_type": "code",
   "execution_count": 35,
   "id": "5453158e-a905-4a8e-b877-4739dd97bd41",
   "metadata": {},
   "outputs": [
    {
     "data": {
      "text/plain": [
       "15"
      ]
     },
     "execution_count": 35,
     "metadata": {},
     "output_type": "execute_result"
    }
   ],
   "source": [
    "len(colors)"
   ]
  },
  {
   "cell_type": "markdown",
   "id": "16cb6879-498f-45cf-92cd-1aac577b491f",
   "metadata": {},
   "source": [
    "Using this function, write an expression that shows the number of rows in `colors` with more green than blue:"
   ]
  },
  {
   "cell_type": "code",
   "execution_count": 36,
   "id": "d92e8f45-5075-4030-a9cc-7c8a08c731eb",
   "metadata": {},
   "outputs": [
    {
     "data": {
      "text/plain": [
       "4"
      ]
     },
     "execution_count": 36,
     "metadata": {},
     "output_type": "execute_result"
    }
   ],
   "source": [
    "len(colors.loc[colors[\"green\"] > colors[\"blue\"]])"
   ]
  },
  {
   "cell_type": "code",
   "execution_count": null,
   "id": "6ad9d4d0-2809-4264-92c4-1aecbc674241",
   "metadata": {},
   "outputs": [],
   "source": []
  }
 ],
 "metadata": {
  "kernelspec": {
   "display_name": "Python 3 (ipykernel)",
   "language": "python",
   "name": "python3"
  },
  "language_info": {
   "codemirror_mode": {
    "name": "ipython",
    "version": 3
   },
   "file_extension": ".py",
   "mimetype": "text/x-python",
   "name": "python",
   "nbconvert_exporter": "python",
   "pygments_lexer": "ipython3",
   "version": "3.9.13"
  }
 },
 "nbformat": 4,
 "nbformat_minor": 5
}
